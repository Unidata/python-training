{
 "cells": [
  {
   "cell_type": "markdown",
   "metadata": {},
   "source": [
    "# A Demonstration of Python's Power\n",
    "\n",
    "Here's just a quick demonstration of how to accomplish a pretty interesting task, plotting a satellite image from a remote server, in Python. We won't explain much of what's going on here, but just want to show how much you can accomplish in Python."
   ]
  },
  {
   "cell_type": "markdown",
   "metadata": {},
   "source": [
    "First we just bring in some tools from a variety of Python libraries, using the `import` command. Python is really powerful at assembling various tools together like lego bricks."
   ]
  },
  {
   "cell_type": "code",
   "execution_count": null,
   "metadata": {},
   "outputs": [],
   "source": [
    "# A whole bunch of imports\n",
    "%matplotlib inline\n",
    "from urllib.request import urlopen\n",
    "\n",
    "import matplotlib.pyplot as plt\n",
    "from matplotlib import patheffects\n",
    "import cartopy.crs as ccrs\n",
    "import cartopy.feature as cfeat\n",
    "\n",
    "from metpy.plots import colortables\n",
    "\n",
    "from siphon.catalog import TDSCatalog\n",
    "\n",
    "from xarray import open_dataset"
   ]
  },
  {
   "cell_type": "markdown",
   "metadata": {},
   "source": [
    "Now we download the latest water vapor satellite imagery from a remote server and pull out a variety of needed information. This makes use Unidata's MetPy and Siphon libraries."
   ]
  },
  {
   "cell_type": "code",
   "execution_count": null,
   "metadata": {},
   "outputs": [],
   "source": [
    "# Scan the catalog and download the data\n",
    "\n",
    "cat = TDSCatalog(\n",
    "    'https://thredds.ucar.edu/thredds/catalog/satellite/goes/east/products/'\n",
    "    'CloudAndMoistureImagery/CONUS/Channel09/current/catalog.xml'\n",
    ")\n",
    "dataset = cat.datasets[list(cat.datasets)[0]]\n",
    "#gini_file = GiniFile(urlopen(dataset.access_urls['HTTPServer']))\n",
    "sat_ds = open_dataset(dataset.access_urls['OPENDAP']).metpy.parse_cf()\n",
    "# Pull parts out of the data file\n",
    "data_var = sat_ds.Sectorized_CMI\n",
    "x = sat_ds.x.values\n",
    "y = sat_ds.y.values\n",
    "time_var = sat_ds.time.values.astype('datetime64[ms]').astype('O')\n",
    "proj_var = sat_ds.fixedgrid_projection\n",
    "\n",
    "# Set up the projection\n",
    "proj = ccrs.Geostationary(\n",
    "    central_longitude=proj_var.attrs['longitude_of_projection_origin'],\n",
    "    satellite_height=proj_var.attrs['perspective_point_height'])"
   ]
  },
  {
   "cell_type": "markdown",
   "metadata": {},
   "source": [
    "Now we plot the satellite data along with some mapping information; this plotting is provided by the matplotlib library, while the mapping capabilities come from a library called cartopy."
   ]
  },
  {
   "cell_type": "code",
   "execution_count": null,
   "metadata": {},
   "outputs": [],
   "source": [
    "# Create the figure\n",
    "fig = plt.figure(figsize=(15, 15))\n",
    "ax = fig.add_subplot(1, 1, 1, projection=proj)\n",
    "\n",
    "wv_norm, wv_cmap = colortables.get_with_range('WVCIMSS_r', 164, 294)\n",
    "wv_cmap.set_under('k')\n",
    "im = ax.imshow(\n",
    "    data_var, cmap=wv_cmap, norm=wv_norm,\n",
    "    extent=(x.min(), x.max(), y.min(), y.max()),\n",
    "    origin='upper')\n",
    "plt.colorbar(im, orientation='horizontal', pad=0, aspect=50)\n",
    "\n",
    "# Add mapping information\n",
    "ax.add_feature(cfeat.COASTLINE.with_scale('50m'), edgecolor='black')\n",
    "ax.add_feature(cfeat.STATES, edgecolor='red', linestyle=':')\n",
    "ax.add_feature(cfeat.BORDERS, linewidth=2, edgecolor='black')\n",
    "\n",
    "text = ax.text(\n",
    "    0.99, 0.01, time_var, horizontalalignment='right',\n",
    "    transform=ax.transAxes, color='white', fontsize='x-large', weight='bold')\n",
    "\n",
    "text.set_path_effects([\n",
    "    patheffects.Stroke(linewidth=2, foreground='black'),\n",
    "    patheffects.Normal()\n",
    "])"
   ]
  },
  {
   "cell_type": "code",
   "execution_count": null,
   "metadata": {},
   "outputs": [],
   "source": []
  }
 ],
 "metadata": {
  "kernelspec": {
   "display_name": "Python 3",
   "language": "python",
   "name": "python3"
  },
  "language_info": {
   "codemirror_mode": {
    "name": "ipython",
    "version": 3
   },
   "file_extension": ".py",
   "mimetype": "text/x-python",
   "name": "python",
   "nbconvert_exporter": "python",
   "pygments_lexer": "ipython3",
   "version": "3.8.2"
  }
 },
 "nbformat": 4,
 "nbformat_minor": 4
}
