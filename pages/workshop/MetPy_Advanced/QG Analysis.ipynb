{
 "cells": [
  {
   "cell_type": "markdown",
   "metadata": {},
   "source": [
    "<a name=\"top\"></a>\n",
    "<div style=\"width:1000 px\">\n",
    "\n",
    "<div style=\"float:right; width:98 px; height:98px;\">\n",
    "<img src=\"https://raw.githubusercontent.com/Unidata/MetPy/master/src/metpy/plots/_static/unidata_150x150.png\" alt=\"Unidata Logo\" style=\"height: 98px;\">\n",
    "</div>\n",
    "\n",
    "<h1>Advanced MetPy: Quasi-Geostrophic Analysis</h1>\n",
    "\n",
    "<div style=\"clear:both\"></div>\n",
    "</div>\n",
    "\n",
    "<hr style=\"height:2px;\">\n",
    "\n",
    "### Objectives\n",
    "1. <a href=\"#download\">Download NARR output from TDS</a>\n",
    "1. <a href=\"#interpolation\">Calculate QG-Omega Forcing Terms</a>\n",
    "1. <a href=\"#ascent\">Create a four-panel plot of QG Forcings</a>\n",
    "\n",
    "This is a tutorial demonstrates common analyses for Synoptic Meteorology courses with use of Unidata tools, specifically [MetPy](https://unidata.github.io/MetPy/latest/) and [Siphon](https://unidata.github.io/siphon/latest/). In this tutorial we will cover accessing, calculating, and plotting model output.\n",
    "\n",
    "Let's investigate The Storm of the Century, although it would easy to change which case you wanted (please feel free to do so).\n",
    "\n",
    "Reanalysis Output: NARR 00 UTC 13 March 1993\n",
    "\n",
    "### Data from Reanalysis on pressure surfaces:\n",
    "* Geopotential Heights\n",
    "* Temperature\n",
    "* u-wind component\n",
    "* v-wind component\n",
    "\n",
    "### Calculations:\n",
    "* Laplacian of Temperature Advection\n",
    "* Differential Vorticity Advection\n",
    "* Wind Speed"
   ]
  },
  {
   "cell_type": "code",
   "execution_count": null,
   "metadata": {},
   "outputs": [],
   "source": [
    "from datetime import datetime\n",
    "\n",
    "import cartopy.crs as ccrs\n",
    "import cartopy.feature as cfeature\n",
    "import numpy as np\n",
    "from scipy.ndimage import gaussian_filter\n",
    "from siphon.catalog import TDSCatalog\n",
    "from siphon.ncss import NCSS\n",
    "import matplotlib.pyplot as plt\n",
    "import metpy.calc as mpcalc\n",
    "import metpy.constants as mpconstants\n",
    "from metpy.units import units\n",
    "import xarray as xr"
   ]
  },
  {
   "cell_type": "markdown",
   "metadata": {},
   "source": [
    "<a name=\"download\"></a>\n",
    "### Downloading NARR Output\n",
    "Lets investigate what specific NARR output is available to work with from NCEI.\n",
    "\n",
    "https://www.ncdc.noaa.gov/data-access/model-data/model-datasets/north-american-regional-reanalysis-narr\n",
    "\n",
    "We specifically want to look for data that has \"TDS\" data access, since that is short for a THREDDS server data access point. There are a total of four different GFS datasets that we could potentially use.\n",
    "\n",
    "\n",
    "**Choosing our data source**\n",
    "\n",
    "Let's go ahead and use the NARR Analysis data to investigate the past case we identified (The Storm of the Century).\n",
    "\n",
    "https://www.ncdc.noaa.gov/thredds/catalog/narr-a-files/199303/19930313/catalog.html?dataset=narr-a-files/199303/19930313/narr-a_221_19930313_0000_000.grb\n",
    "\n",
    "And we will use a python package called Siphon to read this data through the NetCDFSubset (NetCDFServer) link.\n",
    "\n",
    "https://www.ncdc.noaa.gov/thredds/ncss//narr-a-files/199303/19930313/narr-a_221_19930313_0000_000.grb/dataset.html\n",
    "\n",
    "First we can set out date using the datetime module"
   ]
  },
  {
   "cell_type": "code",
   "execution_count": null,
   "metadata": {},
   "outputs": [],
   "source": [
    "# Case Study Date\n",
    "year = 1993\n",
    "month = 3\n",
    "day = 13\n",
    "hour = 0\n",
    "\n",
    "dt = datetime(year, month, day, hour)"
   ]
  },
  {
   "cell_type": "markdown",
   "metadata": {},
   "source": [
    "Next, we set up access to request subsets of data from the model. This uses the NetCDF Subset Service (NCSS) to make requests from the GRIB collection and get results in netCDF format."
   ]
  },
  {
   "cell_type": "code",
   "execution_count": null,
   "metadata": {},
   "outputs": [],
   "source": [
    "# Read NARR Data from THREDDS server\n",
    "base_url = 'https://www.ncdc.noaa.gov/thredds/catalog/narr-a-files/'\n",
    "\n",
    "# Programmatically generate the URL to the day of data we want\n",
    "cat = TDSCatalog(f'{base_url}{dt:%Y%m}/{dt:%Y%m%d}/catalog.xml')\n",
    "\n",
    "# Have Siphon find the appropriate dataset\n",
    "ds = cat.datasets.filter_time_nearest(dt)\n",
    "\n",
    "# Download data using the NetCDF Subset Service\n",
    "ncss = ds.subset()\n",
    "query = ncss.query().lonlat_box(north=60, south=18, east=300, west=225)\n",
    "query.time(dt).variables('Geopotential_height_isobaric',\n",
    "                         'Temperature_isobaric',\n",
    "                         'u-component_of_wind_isobaric',\n",
    "                         'v-component_of_wind_isobaric').add_lonlat().accept('netcdf')\n",
    "data = ncss.get_data(query)"
   ]
  },
  {
   "cell_type": "code",
   "execution_count": null,
   "metadata": {},
   "outputs": [],
   "source": [
    "# Open data with xarray, and parse it with MetPy\n",
    "ds = xr.open_dataset(xr.backends.NetCDF4DataStore(data)).metpy.parse_cf()\n",
    "ds"
   ]
  },
  {
   "cell_type": "code",
   "execution_count": null,
   "metadata": {},
   "outputs": [],
   "source": [
    "# Back up in case of bad internet connection.\n",
    "# Uncomment the following line to read local netCDF file of NARR data\n",
    "# ds = xr.open_dataset('../../data/NARR_19930313_0000.nc').metpy.parse_cf()"
   ]
  },
  {
   "cell_type": "markdown",
   "metadata": {},
   "source": [
    "### Subset Pressure Levels\n",
    "Using xarray gives great funtionality for selecting pieces of your dataset to use within your script/program. MetPy also includes helpers for unit- and coordinate-aware selection and getting unit arrays from xarray DataArrays."
   ]
  },
  {
   "cell_type": "code",
   "execution_count": null,
   "metadata": {},
   "outputs": [],
   "source": [
    "# This is the time we're using\n",
    "vtime = ds.Temperature_isobaric.metpy.time[0]\n",
    "\n",
    "# Grab lat/lon values from file as unit arrays\n",
    "lats = ds.lat.metpy.unit_array\n",
    "lons = ds.lon.metpy.unit_array\n",
    "\n",
    "# Calculate distance between grid points\n",
    "# will need for computations later\n",
    "dx, dy = mpcalc.lat_lon_grid_deltas(lons, lats)\n",
    "\n",
    "# Grabbing data for specific variable contained in file (as a unit array)\n",
    "# 700 hPa Geopotential Heights\n",
    "hght_700 = ds.Geopotential_height_isobaric.metpy.sel(vertical=700 * units.hPa,\n",
    "                                                     time=vtime)\n",
    "\n",
    "# Equivalent form needed if there is a dash in name of variable\n",
    "# (e.g., 'u-component_of_wind_isobaric')\n",
    "# hght_700 = ds['Geopotential_height_isobaric'].metpy.sel(vertical=700 * units.hPa, time=vtime)\n",
    "\n",
    "# 700 hPa Temperature\n",
    "tmpk_700 = ds.Temperature_isobaric.metpy.sel(vertical=700 * units.hPa,\n",
    "                                             time=vtime)\n",
    "\n",
    "# 700 hPa u-component_of_wind\n",
    "uwnd_700 = ds['u-component_of_wind_isobaric'].metpy.sel(vertical=700 * units.hPa,\n",
    "                                                        time=vtime)\n",
    "\n",
    "# 700 hPa v-component_of_wind\n",
    "vwnd_700 = ds['v-component_of_wind_isobaric'].metpy.sel(vertical=700 * units.hPa,\n",
    "                                                        time=vtime)"
   ]
  },
  {
   "cell_type": "markdown",
   "metadata": {},
   "source": [
    "<div class=\"alert alert-success\">\n",
    "    <b>EXERCISE</b>:\n",
    "    \n",
    "Write the code to access the remaining necessary pieces of data from our file to calculate the QG Omega forcing terms valid at 700 hPa.\n",
    "    \n",
    "Data variables desired:\n",
    "     <ul>\n",
    "         <li>hght_500: 500-hPa Geopotential_height_isobaric</li>\n",
    "         <li>uwnd_500: 500-hPa u-component_of_wind_isobaric</li>\n",
    "         <li>vwnd_500: 500-hPa v-component_of_wind_isobaric</li>\n",
    "         <li>uwnd_900: 900-hPa u-component_of_wind_isobaric</li>\n",
    "         <li>vwnd_900: 900-hPa v-component_of_wind_isobaric</li>\n",
    "    </ul>\n",
    "</div>"
   ]
  },
  {
   "cell_type": "code",
   "execution_count": null,
   "metadata": {},
   "outputs": [],
   "source": [
    "# 500 hPa Geopotential Height\n",
    "\n",
    "\n",
    "# 500 hPa u-component_of_wind\n",
    "\n",
    "\n",
    "# 500 hPa v-component_of_wind\n",
    "\n",
    "\n",
    "# 900 hPa u-component_of_wind\n",
    "\n",
    "\n",
    "# 900 hPa v-component_of_wind\n",
    "\n"
   ]
  },
  {
   "cell_type": "markdown",
   "metadata": {},
   "source": [
    "<div class=\"alert alert-info\">\n",
    "    <b>SOLUTION</b>\n",
    "</div>"
   ]
  },
  {
   "cell_type": "code",
   "execution_count": null,
   "metadata": {},
   "outputs": [],
   "source": [
    "# %load solutions/QG_data.py"
   ]
  },
  {
   "cell_type": "markdown",
   "metadata": {},
   "source": [
    "### QG Omega Forcing Terms\n",
    "\n",
    "Here is the QG Omega equation from Bluesetein (1992; Eq. 5.6.11) with the two primary forcing terms on the right hand side of this equation.\n",
    "\n",
    "$$\\left(\\nabla_p ^2 + \\frac{f^2}{\\sigma}\\frac{\\partial ^2}{\\partial p^2}\\right)\\omega = \n",
    "\\frac{f_o}{\\sigma}\\frac{\\partial}{\\partial p}\\left[\\vec{V_g} \\cdot \\nabla_p \\left(\\zeta_g + f \\right)\\right] +\n",
    "\\frac{R}{\\sigma p} \\nabla_p ^2 \\left[\\vec{V_g} \\cdot \\nabla_p T \\right]$$\n",
    "\n",
    "We want to write code that will calculate the differential vorticity advection term (the first term on the r.h.s.) and the laplacian of the temperature advection. We will compute these terms so that they are valid at 700 hPa. Need to set constants for static stability, f0, and Rd."
   ]
  },
  {
   "cell_type": "code",
   "execution_count": null,
   "metadata": {},
   "outputs": [],
   "source": [
    "# Set constant values that will be needed in computations\n",
    "\n",
    "# Set default static stability value\n",
    "sigma = 2.0e-6 * units('m^2 Pa^-2 s^-2')\n",
    "\n",
    "# Set f-plane at typical synoptic f0 value\n",
    "f0 = 1e-4 * units('s^-1')\n",
    "\n",
    "# Use dry gas constant from MetPy constants\n",
    "Rd = mpconstants.Rd"
   ]
  },
  {
   "cell_type": "code",
   "execution_count": null,
   "metadata": {},
   "outputs": [],
   "source": [
    "# Smooth Heights\n",
    "# For calculation purposes we want to smooth our variables\n",
    "# a little to get to the \"synoptic values\" from higher\n",
    "# resolution datasets\n",
    "\n",
    "# Number of repetitions of smoothing function\n",
    "n_reps = 50\n",
    "\n",
    "# Apply the 9-point smoother\n",
    "hght_700s = mpcalc.smooth_n_point(hght_700, 9, n_reps)\n",
    "hght_500s = mpcalc.smooth_n_point(hght_500, 9, n_reps)\n",
    "\n",
    "tmpk_700s = mpcalc.smooth_n_point(tmpk_700, 9, n_reps)\n",
    "tmpc_700s = tmpk_700s.to('degC')\n",
    "\n",
    "uwnd_700s = mpcalc.smooth_n_point(uwnd_700, 9, n_reps)\n",
    "vwnd_700s = mpcalc.smooth_n_point(vwnd_700, 9, n_reps)\n",
    "\n",
    "uwnd_500s = mpcalc.smooth_n_point(uwnd_500, 9, n_reps)\n",
    "vwnd_500s = mpcalc.smooth_n_point(vwnd_500, 9, n_reps)\n",
    "\n",
    "uwnd_900s = mpcalc.smooth_n_point(uwnd_900, 9, n_reps)\n",
    "vwnd_900s = mpcalc.smooth_n_point(vwnd_900, 9, n_reps)"
   ]
  },
  {
   "cell_type": "markdown",
   "metadata": {},
   "source": [
    "#### Compute Term A - Differential Vorticity Advection\n",
    "\n",
    "Need to compute:\n",
    "1. absolute vorticity at two levels (e.g., 500 and 900 hPa)\n",
    "2. absolute vorticity advection at same two levels\n",
    "3. centered finite-difference between two levels (e.g., valid at 700 hPa)\n",
    "4. apply constants to calculate value of full term"
   ]
  },
  {
   "cell_type": "code",
   "execution_count": null,
   "metadata": {},
   "outputs": [],
   "source": [
    "# Absolute Vorticity Calculation\n",
    "avor_900 = mpcalc.absolute_vorticity(uwnd_900s, vwnd_900s, dx, dy, lats)\n",
    "avor_500 = mpcalc.absolute_vorticity(uwnd_500s, vwnd_500s, dx, dy, lats)\n",
    "\n",
    "# Advection of Absolute Vorticity\n",
    "vortadv_900 = mpcalc.advection(avor_900, (uwnd_900s, vwnd_900s), (dx, dy)).to_base_units()\n",
    "vortadv_500 = mpcalc.advection(avor_500, (uwnd_500s, vwnd_500s), (dx, dy)).to_base_units()\n",
    "\n",
    "# Differential Vorticity Advection between two levels\n",
    "diff_avor = ((vortadv_900 - vortadv_500)/(400 * units.hPa)).to_base_units()\n",
    "\n",
    "# Calculation of final differential vorticity advection term\n",
    "term_A = (-f0 / sigma * diff_avor).to_base_units()\n",
    "print(term_A.units)"
   ]
  },
  {
   "cell_type": "markdown",
   "metadata": {},
   "source": [
    "<div class=\"alert alert-success\">\n",
    "    <b>EXERCISE</b>:\n",
    "\n",
    "Compute Term B - Laplacian of Temperature Advection\n",
    "    \n",
    "Need to compute:\n",
    "    \n",
    " <ul>\n",
    "     <li>Temperature advection at 700 hPa (tadv_700)</li>\n",
    "     <li>Laplacian of Temp Adv. at 700 hPa (lap_tadv_700)</li>\n",
    "     <li>Final term B with appropriate constants (term_B)</li>\n",
    "</ul>\n",
    "    \n",
    "For information on how to calculate a Laplacian using MetPy, see the <a href=\"https://unidata.github.io/MetPy/latest/api/generated/metpy.calc.laplacian.html\">documentation</a> on this function.\n",
    "</div>"
   ]
  },
  {
   "cell_type": "code",
   "execution_count": null,
   "metadata": {
    "scrolled": true
   },
   "outputs": [],
   "source": [
    "# Temperature Advection\n",
    "\n",
    "\n",
    "# Laplacian of Temperature Advection\n",
    "\n",
    "\n",
    "# Calculation of final Laplacian of Temperature Advection term\n",
    "\n"
   ]
  },
  {
   "cell_type": "markdown",
   "metadata": {},
   "source": [
    "<div class=\"alert alert-info\">\n",
    "    <b>SOLUTION</b>\n",
    "</div>"
   ]
  },
  {
   "cell_type": "code",
   "execution_count": null,
   "metadata": {},
   "outputs": [],
   "source": [
    "# %load solutions/term_B_calc.py"
   ]
  },
  {
   "cell_type": "markdown",
   "metadata": {},
   "source": [
    "### Four Panel Plot\n",
    "\n",
    "Upper-left Panel: 700-hPa Geopotential Heights, Temperature, and Winds\n",
    "\n",
    "Upper-right Panel: 500-hPa Geopotential Heights, Absolute Vorticity, and Winds\n",
    "\n",
    "Lower-left Panel: Term B (Laplacian of Temperature Advection)\n",
    "\n",
    "Lower-right Panel: Term A (Laplacian of differential Vorticity Advection)"
   ]
  },
  {
   "cell_type": "code",
   "execution_count": null,
   "metadata": {},
   "outputs": [],
   "source": [
    "# Set some contour intervals for various parameters\n",
    "\n",
    "# CINT 500 hPa Heights\n",
    "clev_hght_500 = np.arange(0, 7000, 60)\n",
    "# CINT 700 hPa Heights\n",
    "clev_hght_700 = np.arange(0, 7000, 30)\n",
    "# CINT 700 hPa Temps\n",
    "clev_tmpc_700 = np.arange(-40, 40, 5)\n",
    "# CINT Omega terms\n",
    "clev_omega = np.arange(-20, 21, 2)"
   ]
  },
  {
   "cell_type": "code",
   "execution_count": null,
   "metadata": {},
   "outputs": [],
   "source": [
    "# Set some projections for our data (Plate Carree)\n",
    "# and output maps (Lambert Conformal)\n",
    "\n",
    "# Data projection; NARR Data is Earth Relative\n",
    "dataproj = ccrs.PlateCarree()\n",
    "\n",
    "# Plot projection\n",
    "# The look you want for the view, LambertConformal for mid-latitude view\n",
    "plotproj = ccrs.LambertConformal(central_longitude=-100.,\n",
    "                                 central_latitude=40.,\n",
    "                                 standard_parallels=[30, 60])"
   ]
  },
  {
   "cell_type": "markdown",
   "metadata": {},
   "source": [
    "#### Start 4-panel Figure"
   ]
  },
  {
   "cell_type": "code",
   "execution_count": null,
   "metadata": {},
   "outputs": [],
   "source": [
    "# Set figure size\n",
    "fig=plt.figure(1, figsize=(24.5,17.))\n",
    "\n",
    "# Format the valid time\n",
    "vtime_str = str(vtime.dt.strftime('%Y-%m-%d %H%MZ').values)\n",
    "\n",
    "# Upper-Left Panel\n",
    "ax=plt.subplot(221, projection=plotproj)\n",
    "ax.set_extent([-125., -73, 25., 50.],ccrs.PlateCarree())\n",
    "ax.add_feature(cfeature.COASTLINE, linewidth=0.5)\n",
    "ax.add_feature(cfeature.STATES, linewidth=0.5)\n",
    "\n",
    "# Contour #1\n",
    "cs = ax.contour(lons, lats, hght_700, clev_hght_700,colors='k',\n",
    "                linewidths=1.5, linestyles='solid', transform=dataproj)\n",
    "plt.clabel(cs, fontsize=10, inline=1, inline_spacing=3, fmt='%i',\n",
    "           rightside_up=True, use_clabeltext=True)\n",
    "\n",
    "# Contour #2\n",
    "cs2 = ax.contour(lons, lats, tmpc_700s, clev_tmpc_700, colors='grey',\n",
    "                linewidths=1.0, linestyles='dotted', transform=dataproj)\n",
    "plt.clabel(cs2, fontsize=10, inline=1, inline_spacing=3, fmt='%d',\n",
    "           rightside_up=True, use_clabeltext=True)\n",
    "\n",
    "# Colorfill\n",
    "cf = ax.contourf(lons, lats, tadv_700*10**4, np.arange(-10,10.1,0.5),\n",
    "                 cmap=plt.cm.bwr, extend='both', transform=dataproj)\n",
    "plt.colorbar(cf, orientation='horizontal', pad=0.0, aspect=50, extendrect=True)\n",
    "\n",
    "# Vector\n",
    "ax.barbs(lons.m, lats.m, uwnd_700s.to('kts').m, vwnd_700s.to('kts').m,\n",
    "         regrid_shape=15, transform=dataproj)\n",
    "\n",
    "# Titles\n",
    "plt.title('700-hPa Geopotential Heights (m), Temperature (C),\\n'\n",
    "          'Winds (kts), and Temp Adv. ($*10^4$ C/s)',loc='left')\n",
    "plt.title('VALID: ' + vtime_str, loc='right')\n",
    "\n",
    "\n",
    "\n",
    "# Upper-Right Panel\n",
    "ax=plt.subplot(222, projection=plotproj)\n",
    "ax.set_extent([-125., -73, 25., 50.],ccrs.PlateCarree())\n",
    "ax.add_feature(cfeature.COASTLINE, linewidth=0.5)\n",
    "ax.add_feature(cfeature.STATES, linewidth=0.5)\n",
    "\n",
    "# Contour #1\n",
    "clev500 = np.arange(0,7000,60)\n",
    "cs = ax.contour(lons, lats, hght_500, clev500, colors='k',\n",
    "                linewidths=1.5, linestyles='solid', transform=dataproj)\n",
    "plt.clabel(cs, fontsize=10, inline=1, inline_spacing=3, fmt='%i',\n",
    "           rightside_up=True, use_clabeltext=True)\n",
    "\n",
    "# Contour #2\n",
    "cs2 = ax.contour(lons, lats, avor_500*10**5, np.arange(-40, 50, 3),colors='grey',\n",
    "                linewidths=1.0, linestyles='dotted', transform=dataproj)\n",
    "plt.clabel(cs2, fontsize=10, inline=1, inline_spacing=3, fmt='%d',\n",
    "           rightside_up=True, use_clabeltext=True)\n",
    "\n",
    "# Colorfill\n",
    "cf = ax.contourf(lons, lats, vortadv_500*10**8, np.arange(-2, 2.2, 0.2),\n",
    "                 cmap=plt.cm.BrBG, extend='both', transform=dataproj)\n",
    "plt.colorbar(cf, orientation='horizontal', pad=0.0, aspect=50, extendrect=True)\n",
    "\n",
    "# Vector\n",
    "ax.barbs(lons.m, lats.m, uwnd_500s.to('kts').m, vwnd_500s.to('kts').m,\n",
    "         regrid_shape=15, transform=dataproj)\n",
    "\n",
    "# Titles\n",
    "plt.title('500-hPa Geopotential Heights (m), Winds (kt), and\\n'\n",
    "          'Absolute Vorticity Advection ($*10^{8}$ 1/s^2)',loc='left')\n",
    "plt.title('VALID: ' + vtime_str, loc='right')\n",
    "\n",
    "\n",
    "\n",
    "# Lower-Left Panel\n",
    "ax=plt.subplot(223, projection=plotproj)\n",
    "ax.set_extent([-125., -73, 25., 50.],ccrs.PlateCarree())\n",
    "ax.add_feature(cfeature.COASTLINE, linewidth=0.5)\n",
    "ax.add_feature(cfeature.STATES, linewidth=0.5)\n",
    "\n",
    "# Contour #1\n",
    "cs = ax.contour(lons, lats, hght_700s, clev_hght_700, colors='k',\n",
    "                linewidths=1.5, linestyles='solid', transform=dataproj)\n",
    "plt.clabel(cs, fontsize=10, inline=1, inline_spacing=3, fmt='%i',\n",
    "           rightside_up=True, use_clabeltext=True)\n",
    "\n",
    "# Contour #2\n",
    "cs2 = ax.contour(lons, lats, tmpc_700s, clev_tmpc_700, colors='grey',\n",
    "                linewidths=1.0, transform=dataproj)\n",
    "plt.clabel(cs2, fontsize=10, inline=1, inline_spacing=3, fmt='%d',\n",
    "           rightside_up=True, use_clabeltext=True)\n",
    "\n",
    "# Colorfill\n",
    "cf = ax.contourf(lons, lats, term_B*10**12, clev_omega,\n",
    "                 cmap=plt.cm.RdYlBu_r, extend='both', transform=dataproj)\n",
    "plt.colorbar(cf, orientation='horizontal', pad=0.0, aspect=50, extendrect=True)\n",
    "\n",
    "# Vector\n",
    "ax.barbs(lons.m, lats.m, uwnd_700s.to('kts').m, vwnd_700s.to('kts').m,\n",
    "         regrid_shape=15, transform=dataproj)\n",
    "\n",
    "# Titles\n",
    "plt.title('700-hPa Geopotential Heights (m), Winds (kt), and\\n'\n",
    "          'Term B QG Omega ($*10^{12}$ kg m$^{-3}$ s$^{-3}$)',loc='left')\n",
    "plt.title('VALID: ' + vtime_str, loc='right')\n",
    "\n",
    "\n",
    "\n",
    "# # Lower-Right Panel\n",
    "ax=plt.subplot(224, projection=plotproj)\n",
    "ax.set_extent([-125., -73, 25., 50.],ccrs.PlateCarree())\n",
    "ax.add_feature(cfeature.COASTLINE, linewidth=0.5)\n",
    "ax.add_feature(cfeature.STATES, linewidth=0.5)\n",
    "\n",
    "# Contour #1\n",
    "cs = ax.contour(lons, lats, hght_500s, clev500, colors='k',\n",
    "                linewidths=1.5, linestyles='solid', transform=dataproj)\n",
    "plt.clabel(cs, fontsize=10, inline=1, inline_spacing=3, fmt='%i',\n",
    "           rightside_up=True, use_clabeltext=True)\n",
    "\n",
    "# Contour #2\n",
    "cs2 = ax.contour(lons, lats, avor_500*10**5, np.arange(-40, 50, 3), colors='grey',\n",
    "                linewidths=1.0, linestyles='dotted', transform=dataproj)\n",
    "plt.clabel(cs2, fontsize=10, inline=1, inline_spacing=3, fmt='%d',\n",
    "           rightside_up=True, use_clabeltext=True)\n",
    "\n",
    "# Colorfill\n",
    "cf = ax.contourf(lons, lats, term_A*10**12, clev_omega,\n",
    "                 cmap=plt.cm.RdYlBu_r, extend='both', transform=dataproj)\n",
    "plt.colorbar(cf, orientation='horizontal', pad=0.0, aspect=50, extendrect=True)\n",
    "\n",
    "# Vector\n",
    "ax.barbs(lons.m, lats.m, uwnd_500s.to('kt').m, vwnd_500s.to('kt').m,\n",
    "         regrid_shape=15, transform=dataproj)\n",
    "\n",
    "# Titles\n",
    "plt.title('500-hPa Geopotential Heights (m), Winds (kt), and\\n'\n",
    "          'Term A QG Omega ($*10^{12}$ kg m$^{-3}$ s$^{-3}$)',loc='left')\n",
    "plt.title('VALID: ' + vtime_str, loc='right')\n",
    "\n",
    "plt.show()"
   ]
  },
  {
   "cell_type": "markdown",
   "metadata": {},
   "source": [
    "<div class=\"alert alert-success\">\n",
    "    <b>EXERCISE</b>:\n",
    "     <ul>\n",
    "         <li>Plot the combined QG Omega forcing terms (term_A + term_B) in a single panel.</li>\n",
    "         <li><b>BONUS:</b> Compute a difference map of Term A and Term B and plot.</li>\n",
    "    </ul>\n",
    "</div>"
   ]
  },
  {
   "cell_type": "code",
   "execution_count": null,
   "metadata": {},
   "outputs": [],
   "source": [
    "# YOUR CODE GOES HERE"
   ]
  },
  {
   "cell_type": "markdown",
   "metadata": {},
   "source": [
    "<div class=\"alert alert-info\">\n",
    "    <b>SOLUTION</b>\n",
    "</div>"
   ]
  },
  {
   "cell_type": "code",
   "execution_count": null,
   "metadata": {},
   "outputs": [],
   "source": [
    "# %load solutions/qg_omega_total_fig.py"
   ]
  }
 ],
 "metadata": {
  "kernelspec": {
   "display_name": "Python 3",
   "language": "python",
   "name": "python3"
  },
  "language_info": {
   "codemirror_mode": {
    "name": "ipython",
    "version": 3
   },
   "file_extension": ".py",
   "mimetype": "text/x-python",
   "name": "python",
   "nbconvert_exporter": "python",
   "pygments_lexer": "ipython3",
   "version": "3.7.6"
  }
 },
 "nbformat": 4,
 "nbformat_minor": 4
}
