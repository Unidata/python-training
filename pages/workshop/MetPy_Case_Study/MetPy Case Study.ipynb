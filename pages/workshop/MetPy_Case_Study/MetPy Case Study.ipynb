{
 "cells": [
  {
   "cell_type": "markdown",
   "metadata": {},
   "source": [
    "<a name=\"top\"></a>\n",
    "<div style=\"width:1000 px\">\n",
    "\n",
    "<div style=\"float:right; width:98 px; height:98px;\">\n",
    "<img src=\"https://raw.githubusercontent.com/Unidata/MetPy/master/src/metpy/plots/_static/unidata_150x150.png\" alt=\"Unidata Logo\" style=\"height: 98px;\">\n",
    "</div>\n",
    "\n",
    "<h1>MetPy Case Study</h1>\n",
    "\n",
    "<div style=\"clear:both\"></div>\n",
    "</div>\n",
    "\n",
    "<hr style=\"height:2px;\">\n",
    "\n",
    "This is a tutorial on building a case study map for Dynamic Meteorology courses with use of Unidata tools, specifically [MetPy](https://unidata.github.io/MetPy/latest/) and [Siphon](https://unidata.github.io/siphon/latest/). In this tutorial we will cover accessing, calculating, and plotting model output.\n",
    "\n",
    "Let's investigate The Storm of the Century, although it would easy to change which case you wanted (please feel free to do so).\n",
    "\n",
    "Reanalysis Output: NARR 00 UTC 13 March 1993\n",
    "\n",
    "### Data from Reanalysis on pressure surfaces:\n",
    "* Geopotential Heights\n",
    "* Temperature\n",
    "* u-wind component\n",
    "* v-wind component\n",
    "\n",
    "### Calculations:\n",
    "* Vertical Vorticity\n",
    "* Advection of Temperature and Vorticity\n",
    "* Horizontal Divergence\n",
    "* Wind Speed"
   ]
  },
  {
   "cell_type": "code",
   "execution_count": null,
   "metadata": {},
   "outputs": [],
   "source": [
    "from datetime import datetime\n",
    "\n",
    "import cartopy.crs as ccrs\n",
    "import cartopy.feature as cfeature\n",
    "from netCDF4 import Dataset, num2date\n",
    "import numpy as np\n",
    "from scipy.ndimage import gaussian_filter\n",
    "from siphon.catalog import TDSCatalog\n",
    "from siphon.ncss import NCSS\n",
    "import matplotlib.pyplot as plt\n",
    "import metpy.calc as mpcalc\n",
    "from metpy.plots import StationPlot\n",
    "from metpy.units import units"
   ]
  },
  {
   "cell_type": "markdown",
   "metadata": {},
   "source": [
    "## Case Study Data\n",
    "\n",
    "There are a number of different sites that you can utilize to access past model output analyses and even forecasts. The most robust collection is housed at the National Center for Environmental Information (NCEI, formerly NCDC) on a THREDDS server. The general website to begin your search is\n",
    "\n",
    "https://www.ncdc.noaa.gov/data-access\n",
    "\n",
    "this link contains links to many different data sources (some of which we will come back to later in this tutorial). But for now, lets investigate what model output is avaiable\n",
    "\n",
    "https://www.ncdc.noaa.gov/data-access/model-data/model-datasets\n",
    "\n",
    "The gridded model output that are available\n",
    "\n",
    "**Reanalysis**\n",
    " * Climate Forecast System Reanalysis (CFSR)\n",
    "   * CFSR provides a global reanalysis (a best estimate of the observed state of the atmosphere) of past weather from January 1979 through March 2011 at a horizontal resolution of 0.5°.\n",
    " * North American Regional Reanalysis (NARR)\n",
    "   * NARR is a regional reanalysis of North America containing temperatures, winds, moisture, soil data, and dozens of other parameters at 32km horizontal resolution.\n",
    " * Reanalysis-1 / Reanalysis-2 (R1/R2)\n",
    "   * Reanalysis-1 / Reanalysis-2 are two global reanalyses of atmospheric data spanning 1948/1979 to present at a 2.5° horizontal resolution.\n",
    "\n",
    "**Numerical Weather Prediction**\n",
    " * Climate Forecast System (CFS) \n",
    "   * CFS provides a global reanalysis, a global reforecast of past weather, and an operational, seasonal forecast of weather out to nine months.\n",
    " * Global Data Assimilation System (GDAS)\n",
    "   * GDAS is the set of assimilation data, both input and output, in various formats for the Global Forecast System model.\n",
    " * Global Ensemble Forecast System (GEFS)\n",
    "   * GEFS is a global-coverage weather forecast model made up of 21 separate forecasts, or ensemble members, used to quantify the amount of uncertainty in a forecast. GEFS produces output four times a day with weather forecasts going out to 16 days.\n",
    " * Global Forecast System (GFS)\n",
    "   * The GFS model is a coupled weather forecast model, composed of four separate models which work together to provide an accurate picture of weather conditions. GFS covers the entire globe down to a horizontal resolution of 28km.\n",
    " * North American Mesoscale (NAM)\n",
    "   * NAM is a regional weather forecast model covering North America down to a horizontal resolution of 12km. Dozens of weather parameters are available from the NAM grids, from temperature and precipitation to lightning and turbulent kinetic energy.\n",
    " * Rapid Refresh (RAP)\n",
    "   * RAP is a regional weather forecast model of North America, with separate sub-grids (with different horizontal resolutions) within the overall North America domain. RAP produces forecasts every hour with forecast lengths going out 18 hours.  RAP replaced the Rapid Update Cycle (RUC) model on May 1, 2012.\n",
    " * Navy Operational Global Atmospheric Prediction System (NOGAPS)\n",
    "   * NOGAPS analysis data are available in six-hourly increments on regularly spaced latitude-longitude grids at 1-degree and one-half-degree resolutions. Vertical resolution varies from 18 to 28 pressure levels, 34 sea level depths, the surface, and other various levels.\n",
    "\n",
    "**Ocean Models**\n",
    " * Hybrid Coordinate Ocean Model (HYCOM), Global\n",
    "   * The Navy implementation of HYCOM is the successor to Global NCOM. This site hosts regions covering U.S. coastal waters as well as a global surface model.\n",
    " * Navy Coastal Ocean Model (NCOM), Global\n",
    "   * Global NCOM was run by the Naval Oceanographic Office (NAVOCEANO) as the Navy’s operational global ocean-prediction system prior to its replacement by the Global HYCOM system in 2013. This site hosts regions covering U.S., European, West Pacific, and Australian coastal waters as well as a global surface model.\n",
    " * Navy Coastal Ocean Model (NCOM), Regional\n",
    "   * The Regional NCOM is a high-resolution version of NCOM for specific areas. NCEI serves the Americas Seas, U.S. East, and Alaska regions of NCOM.\n",
    " * Naval Research Laboratory Adaptive Ecosystem Climatology (AEC)\n",
    "   * The Naval Research Laboratory AEC combines an ocean model with Earth observations to provide a synoptic view of the typical (climatic) state of the ocean for every day of the year. This dataset covers the Gulf of Mexico and nearby areas.\n",
    " * National Centers for Environmental Prediction (NCEP) Real Time Ocean Forecast System (RTOFS)–Atlantic\n",
    "   * RTOFS–Atlantic is a data-assimilating nowcast-forecast system operated by NCEP. This dataset covers the Gulf of Mexico and most of the northern and central Atlantic.\n",
    "\n",
    "**Climate Prediction**\n",
    " * CM2 Global Coupled Climate Models (CM2.X)\n",
    "   * CM2.X consists of two climate models to model the changes in climate over the past century and into the 21st century.\n",
    " * Coupled Model Intercomparison Project Phase 5 (CMIP5) (link is external)\n",
    "   * The U.N. Intergovernmental Panel on Climate Change (IPCC) coordinates global analysis of climate models under the Climate Model Intercomparison Project (CMIP). CMIP5 is in its fifth iteration. Data are available through the Program for Climate Model Diagnosis and Intercomparison (PCMDI) website.\n",
    "   \n",
    "**Derived / Other Model Data**\n",
    " * Service Records Retention System (SRRS)\n",
    "   * SRRS is a store of weather observations, summaries, forecasts, warnings, and advisories generated by the National Weather Service for public use.\n",
    " * NOMADS Ensemble Probability Tool\n",
    "   * The NOMADS Ensemble Probability Tool allows a user to query the Global Ensemble Forecast System (GEFS) to determine the probability that a set of forecast conditions will occur at a given location using all of the 21 separate GEFS ensemble members.\n",
    " * National Digital Forecast Database (NDFD)\n",
    "   * NDFD are gridded forecasts created from weather data collected by National Weather Service field offices and processed through the National Centers for Environmental Prediction. NDFD data are available by WMO header or by date range.\n",
    " * National Digital Guidance Database (NDGD)\n",
    "   * NDGD consists of forecasts, observations, model probabilities, climatological normals, and other digital data that complement the National Digital Forecast Database."
   ]
  },
  {
   "cell_type": "markdown",
   "metadata": {},
   "source": [
    "## NARR Output\n",
    "Lets investigate what specific NARR output is available to work with from NCEI.\n",
    "\n",
    "https://www.ncdc.noaa.gov/data-access/model-data/model-datasets/north-american-regional-reanalysis-narr\n",
    "\n",
    "We specifically want to look for data that has \"TDS\" data access, since that is short for a THREDDS server data access point. There are a total of four different GFS datasets that we could potentially use.\n",
    "\n",
    "\n",
    "**Choosing our data source**\n",
    "Let's go ahead and use the NARR Analysis data to investigate the past case we identified (The Storm of the Century).\n",
    "\n",
    "https://www.ncdc.noaa.gov/thredds/catalog/narr-a-files/199303/19930313/catalog.html?dataset=narr-a-files/199303/19930313/narr-a_221_19930313_0000_000.grb\n",
    "\n",
    "And we will use a python package called Siphon to read this data through the NetCDFSubset (NetCDFServer) link.\n",
    "\n",
    "https://www.ncdc.noaa.gov/thredds/ncss//narr-a-files/199303/19930313/narr-a_221_19930313_0000_000.grb/dataset.html"
   ]
  },
  {
   "cell_type": "code",
   "execution_count": null,
   "metadata": {},
   "outputs": [],
   "source": [
    "# Case Study Date\n",
    "year = 1993\n",
    "month = 3\n",
    "day = 13\n",
    "hour = 0\n",
    "\n",
    "dt = datetime(year, month, day, hour)"
   ]
  },
  {
   "cell_type": "code",
   "execution_count": null,
   "metadata": {},
   "outputs": [],
   "source": [
    "# Read NARR Data from THREDDS server\n",
    "base_url = 'https://www.ncdc.noaa.gov/thredds/catalog/narr-a-files/'\n",
    "\n",
    "# Programmatically generate the URL to the day of data we want\n",
    "cat = TDSCatalog(f'{base_url}{dt:%Y%m}/{dt:%Y%m%d}/catalog.xml')\n",
    "\n",
    "# Have Siphon find the appropriate dataset\n",
    "ds = cat.datasets.filter_time_nearest(dt)\n",
    "\n",
    "# Download data using the NetCDF Subset Service\n",
    "ncss = ds.subset()\n",
    "query = ncss.query().lonlat_box(north=60, south=18, east=300, west=225)\n",
    "query.all_times().variables('Geopotential_height_isobaric', 'Temperature_isobaric',\n",
    "                            'u-component_of_wind_isobaric',\n",
    "                            'v-component_of_wind_isobaric').add_lonlat().accept('netcdf')\n",
    "data = ncss.get_data(query)"
   ]
  },
  {
   "cell_type": "code",
   "execution_count": null,
   "metadata": {},
   "outputs": [],
   "source": [
    "# Back up in case of bad internet connection.\n",
    "# Uncomment the following line to read local netCDF file of NARR data\n",
    "# data = Dataset('../../data/NARR_19930313_0000.nc','r')"
   ]
  },
  {
   "cell_type": "markdown",
   "metadata": {},
   "source": [
    "Let's see what dimensions are in the file:"
   ]
  },
  {
   "cell_type": "code",
   "execution_count": null,
   "metadata": {},
   "outputs": [],
   "source": [
    "data.dimensions"
   ]
  },
  {
   "cell_type": "markdown",
   "metadata": {},
   "source": [
    "## Pulling Data for Calculation/Plotting\n",
    "\n",
    "The object that we get from Siphon is netCDF-like, so we can pull data using familiar calls for all of the variables that are desired for calculations and plotting purposes.\n",
    "\n",
    "**NOTE:**\n",
    "Due to the curvilinear nature of the NARR grid, there is a need to smooth the data that we import for calculation and plotting purposes. For more information about why, please see the following link: http://www.atmos.albany.edu/facstaff/rmctc/narr/\n",
    "\n",
    "Additionally, we want to attach units to our values for use in MetPy calculations later and it will also allow for easy conversion to other units.\n",
    "\n",
    "<div class=\"alert alert-success\">\n",
    "    <b>EXERCISE</b>:\n",
    "    Replace the 0's in the template below with your code:\n",
    "     <ul>\n",
    "      <li>Use the gaussian_filter function to smooth the Temperature_isobaric, Geopotential_height_isobaric, u-component_of_wind_isobaric, and v-component_of_wind_isobaric variables from the netCDF object with a sigma value of 1.</li>\n",
    "    <li>Assign the units of kelvin, meter, m/s, and m/s resectively.</li>\n",
    "    <li>Extract the lat, lon, and isobaric1 variables.</li>\n",
    "    </ul>\n",
    "</div>"
   ]
  },
  {
   "cell_type": "code",
   "execution_count": null,
   "metadata": {},
   "outputs": [],
   "source": [
    "# Extract data and assign units\n",
    "tmpk = gaussian_filter(data.variables['Temperature_isobaric'][0], sigma=1.0) * units.K\n",
    "hght = 0\n",
    "uwnd = 0\n",
    "vwnd = 0\n",
    "\n",
    "# Extract coordinate data for plotting\n",
    "lat = data.variables['lat'][:]\n",
    "lon = data.variables['lon'][:]\n",
    "lev = 0"
   ]
  },
  {
   "cell_type": "markdown",
   "metadata": {},
   "source": [
    "<div class=\"alert alert-info\">\n",
    "    <b>SOLUTION</b>\n",
    "</div>"
   ]
  },
  {
   "cell_type": "code",
   "execution_count": null,
   "metadata": {},
   "outputs": [],
   "source": [
    "# %load solutions/extract.py"
   ]
  },
  {
   "cell_type": "markdown",
   "metadata": {},
   "source": [
    "Next we need to extract the time variable. It's not in very useful units, but the `num2date` function can be used to easily create regular datetime objects."
   ]
  },
  {
   "cell_type": "code",
   "execution_count": null,
   "metadata": {},
   "outputs": [],
   "source": [
    "time = data.variables['time1']\n",
    "print(time.units)\n",
    "vtime = num2date(time[0], units=time.units)\n",
    "print(vtime)"
   ]
  },
  {
   "cell_type": "markdown",
   "metadata": {},
   "source": [
    "Finally, we need to calculate the spacing of the grid in distance units instead of degrees using the MetPy helper function `lat_lon_grid_spacing`."
   ]
  },
  {
   "cell_type": "code",
   "execution_count": null,
   "metadata": {},
   "outputs": [],
   "source": [
    "# Calcualte dx and dy for calculations\n",
    "dx, dy = mpcalc.lat_lon_grid_deltas(lon, lat)"
   ]
  },
  {
   "cell_type": "markdown",
   "metadata": {},
   "source": [
    "## Finding Pressure Level Data\n",
    "A robust way to parse the data for a certain pressure level is to find the index value using the `np.where` function. Since the NARR pressure data ('levels') is in hPa, then we'll want to search that array for our pressure levels 850, 500, and 300 hPa.\n",
    "\n",
    "<div class=\"alert alert-success\">\n",
    "    <b>EXERCISE</b>:\n",
    "    Replace the `0`'s in the template below with your code:\n",
    "     <ul>\n",
    "      <li>Find the index of the 850 hPa, 500 hPa, and 300 hPa levels.</li>\n",
    "      <li>Extract the heights, temperature, u, and v winds at those levels.</li>\n",
    "    </ul>\n",
    "</div>\n"
   ]
  },
  {
   "cell_type": "code",
   "execution_count": null,
   "metadata": {},
   "outputs": [],
   "source": [
    "# Specify 850 hPa data\n",
    "ilev850 = np.where(lev==850)[0][0]\n",
    "hght_850 = hght[ilev850]\n",
    "tmpk_850 = 0\n",
    "uwnd_850 = 0\n",
    "vwnd_850 = 0"
   ]
  },
  {
   "cell_type": "code",
   "execution_count": null,
   "metadata": {},
   "outputs": [],
   "source": [
    "# Specify 500 hPa data\n",
    "ilev500 = 0\n",
    "hght_500 = 0\n",
    "uwnd_500 = 0\n",
    "vwnd_500 = 0"
   ]
  },
  {
   "cell_type": "code",
   "execution_count": null,
   "metadata": {},
   "outputs": [],
   "source": [
    "# Specify 300 hPa data\n",
    "ilev300 = 0\n",
    "hght_300 = 0\n",
    "uwnd_300 = 0\n",
    "vwnd_300 = 0"
   ]
  },
  {
   "cell_type": "markdown",
   "metadata": {},
   "source": [
    "<div class=\"alert alert-info\">\n",
    "    <b>SOLUTION</b>\n",
    "</div>"
   ]
  },
  {
   "cell_type": "code",
   "execution_count": null,
   "metadata": {},
   "outputs": [],
   "source": [
    "# %load solutions/get_850_500_300.py"
   ]
  },
  {
   "cell_type": "markdown",
   "metadata": {},
   "source": [
    "## Using MetPy to Calculate Atmospheric Dynamic Quantities\n",
    "\n",
    "MetPy has a large and growing list of functions to calculate many different atmospheric quantities. Here we want to use some classic functions to calculate wind speed, advection, planetary vorticity, relative vorticity, and divergence.\n",
    "\n",
    "* Wind Speed: `mpcalc.wind_speed()`\n",
    "* Advection: `mpcalc.advection()`\n",
    "* Planetary Vorticity: `mpcalc.coriolis_parameter()`\n",
    "* Relative Vorticity: `mpcalc.vorticity()`\n",
    "* Divergence: `mpcalc.divergence()`\n",
    "\n",
    "Note: For the above, MetPy Calculation module is imported in the following manner `import metpy.calc as mpcalc`."
   ]
  },
  {
   "cell_type": "markdown",
   "metadata": {},
   "source": [
    "### Temperature Advection\n",
    "\n",
    "A classic QG forcing term is 850-hPa temperature advection. MetPy has a function for advection\n",
    "\n",
    "[`advection(scalar quantity, [advecting vector components], (grid spacing components))`](https://unidata.github.io/MetPy/latest/api/generated/metpy.calc.advection.html#metpy.calc.advection\n",
    ")\n",
    "\n",
    "So for temperature advection our scalar quantity would be the tempertaure, the advecting vector components would be our u and v components of the wind, and the grid spacing would be our dx and dy we computed in an earier cell.\n",
    "\n",
    "<div class=\"alert alert-success\">\n",
    "    <b>EXERCISE</b>:\n",
    "     <ul>\n",
    "      <li>Uncomment and fill out the advection calculation below.</li>\n",
    "    </ul>\n",
    "</div>\n"
   ]
  },
  {
   "cell_type": "code",
   "execution_count": null,
   "metadata": {},
   "outputs": [],
   "source": [
    "# Temperature Advection\n",
    "# tmpc_adv_850 = mpcalc.advection(--Fill in this call--).to('degC/s')"
   ]
  },
  {
   "cell_type": "markdown",
   "metadata": {},
   "source": [
    "<div class=\"alert alert-info\">\n",
    "    <b>SOLUTION</b>\n",
    "</div>"
   ]
  },
  {
   "cell_type": "code",
   "execution_count": null,
   "metadata": {},
   "outputs": [],
   "source": [
    "# %load solutions/advection_850.py"
   ]
  },
  {
   "cell_type": "markdown",
   "metadata": {},
   "source": [
    "### Vorticity Calculations\n",
    "\n",
    "There are a couple of different vorticities that we are interested in for various calculations, planetary vorticity, relative vorticity, and absolute vorticity. Currently MetPy has two of the three as functions within the calc module.\n",
    "\n",
    "**Planetary Vorticity (Coriolis Parameter)**\n",
    "\n",
    "[`coriolis_parameter(latitude in radians)`](\n",
    "https://unidata.github.io/MetPy/latest/api/generated/metpy.calc.coriolis_parameter.html#metpy.calc.coriolis_parameter)\n",
    "\n",
    "Note: You must can convert your array of latitudes to radians...NumPy give a great function `np.deg2rad()` or have units attached to your latitudes in order for MetPy to convert them for you! Always check your output to make sure that your code is producing what you think it is producing.\n",
    "\n",
    "**Relative Vorticity**\n",
    "\n",
    "When atmospheric scientists talk about relative vorticity, we are really refering to the relative vorticity that is occuring about the vertical axis (the k-hat component). So in MetPy the function is\n",
    "\n",
    "[`vorticity(uwind, vwind, dx, dy)`](\n",
    "https://unidata.github.io/MetPy/latest/api/generated/metpy.calc.vorticity.html#metpy.calc.vorticity)\n",
    "\n",
    "** Absolute Vorticity**\n",
    "\n",
    "Currently there is no specific function for Absolute Vorticity, but this is easy for us to calculate from the previous two calculations because we just need to add them together!\n",
    "\n",
    "`ABS Vort = Rel. Vort + Coriolis Parameter`\n",
    "\n",
    "Here having units are great, becase we won't be able to add things together that don't have the same units! Its a nice safety check just in case you entered something wrong in another part of the calculation, you'll get a units error.\n",
    "\n",
    "<div class=\"alert alert-success\">\n",
    "    <b>EXERCISE</b>:\n",
    "     <ul>\n",
    "      <li>Fill in the function calls below to complete the vorticity calculations.</li>\n",
    "    </ul>\n",
    "</div>\n"
   ]
  },
  {
   "cell_type": "code",
   "execution_count": null,
   "metadata": {},
   "outputs": [],
   "source": [
    "# Vorticity and Absolute Vorticity Calculations\n",
    "\n",
    "# Planetary Vorticity\n",
    "# f = mpcalc.coriolis_parameter(-- Fill in here --).to('1/s')\n",
    "\n",
    "# Relative Vorticity\n",
    "# vor_500 = mpcalc.vorticity(-- Fill in here --)\n",
    "\n",
    "# Abosolute Vorticity\n",
    "# avor_500 = vor_500 + f"
   ]
  },
  {
   "cell_type": "markdown",
   "metadata": {},
   "source": [
    "<div class=\"alert alert-info\">\n",
    "    <b>SOLUTION</b>\n",
    "</div>"
   ]
  },
  {
   "cell_type": "code",
   "execution_count": null,
   "metadata": {},
   "outputs": [],
   "source": [
    "# %load solutions/vort.py"
   ]
  },
  {
   "cell_type": "markdown",
   "metadata": {},
   "source": [
    "### Vorticity Advection\n",
    "\n",
    "We use the same MetPy function for temperature advection for our vorticity advection, we just have to change the scalar quantity (what is being advected) and have appropriate vector quantities for the level our scalar is from. So for vorticity advections well want our wind components from 500 hPa."
   ]
  },
  {
   "cell_type": "code",
   "execution_count": null,
   "metadata": {},
   "outputs": [],
   "source": [
    "# Vorticity Advection\n",
    "f_adv = mpcalc.advection(f, [uwnd_500, vwnd_500], (dx, dy), dim_order='yx')\n",
    "\n",
    "relvort_adv = mpcalc.advection(vor_500, [uwnd_500, vwnd_500], (dx, dy), dim_order='yx')\n",
    "\n",
    "absvort_adv = mpcalc.advection(avor_500, [uwnd_500, vwnd_500], (dx, dy), dim_order='yx')"
   ]
  },
  {
   "cell_type": "markdown",
   "metadata": {},
   "source": [
    "### Divergence and Stretching Vorticity\n",
    "\n",
    "If we want to analyze another component of the vorticity tendency equation other than advection, we might want to assess the stretching forticity term.\n",
    "\n",
    "`-(Abs. Vort.)*(Divergence)`\n",
    "\n",
    "We already have absolute vorticity calculated, so now we need to calculate the divergence of the level, which MetPy has a function\n",
    "\n",
    "`divergence(uwnd, vwnd, dx, dy)`\n",
    "\n",
    "This function computes the horizontal divergence."
   ]
  },
  {
   "cell_type": "code",
   "execution_count": null,
   "metadata": {},
   "outputs": [],
   "source": [
    "# Stretching Vorticity\n",
    "div_500 = mpcalc.divergence(uwnd_500, vwnd_500, dx, dy, dim_order='yx')\n",
    "\n",
    "stretch_vort = -1 * avor_500 * div_500"
   ]
  },
  {
   "cell_type": "markdown",
   "metadata": {},
   "source": [
    "### Wind Speed, Geostrophic and Ageostrophic Wind\n",
    "\n",
    "**Wind Speed**\n",
    "\n",
    "Calculating wind speed is not a difficult calculation, but MetPy offers a function to calculate it easily keeping units so that it is easy to convert units for plotting purposes.\n",
    "\n",
    "[`wind_speed(uwnd, vwnd)`](https://unidata.github.io/MetPy/latest/api/generated/metpy.calc.wind_speed.html#metpy.calc.wind_speed)\n",
    "\n",
    "**Geostrophic Wind**\n",
    "\n",
    "The geostrophic wind can be computed from a given height gradient and coriolis parameter\n",
    "\n",
    "[`geostrophic_wind(heights, coriolis parameter, dx, dy)`](\n",
    "https://unidata.github.io/MetPy/latest/api/generated/metpy.calc.geostrophic_wind.html#metpy.calc.geostrophic_wind)\n",
    "\n",
    "This function will return the two geostrophic wind components in a tuple. On the left hand side you'll be able to put two variables to save them off separately, if desired.\n",
    "\n",
    "**Ageostrophic Wind**\n",
    "\n",
    "Currently, there is not a function in MetPy for calculating the ageostrophic wind, however, it is again a simple arithmatic operation to get it from the total wind (which comes from our data input) and out calculated geostrophic wind from above.\n",
    "\n",
    "`Ageo Wind = Total Wind - Geo Wind`\n"
   ]
  },
  {
   "cell_type": "code",
   "execution_count": null,
   "metadata": {},
   "outputs": [],
   "source": [
    "# Divergence 300 hPa, Ageostrophic Wind\n",
    "wspd_300 = mpcalc.wind_speed(uwnd_300, vwnd_300).to('kts')\n",
    "\n",
    "div_300 = mpcalc.divergence(uwnd_300, vwnd_300, dx, dy, dim_order='yx')\n",
    "ugeo_300, vgeo_300 = mpcalc.geostrophic_wind(hght_300, f, dx, dy, dim_order='yx')\n",
    "\n",
    "uageo_300 = uwnd_300 - ugeo_300\n",
    "vageo_300 = vwnd_300 - vgeo_300"
   ]
  },
  {
   "cell_type": "markdown",
   "metadata": {},
   "source": [
    "## Maps and Projections"
   ]
  },
  {
   "cell_type": "code",
   "execution_count": null,
   "metadata": {},
   "outputs": [],
   "source": [
    "# Data projection; NARR Data is Earth Relative\n",
    "dataproj = ccrs.PlateCarree()\n",
    "\n",
    "# Plot projection\n",
    "# The look you want for the view, LambertConformal for mid-latitude view\n",
    "plotproj = ccrs.LambertConformal(central_longitude=-100., central_latitude=40.,\n",
    "                                 standard_parallels=[30, 60])"
   ]
  },
  {
   "cell_type": "code",
   "execution_count": null,
   "metadata": {},
   "outputs": [],
   "source": [
    "def create_map_background():\n",
    "    fig=plt.figure(figsize=(14, 12))\n",
    "    ax=plt.subplot(111, projection=plotproj)\n",
    "    ax.set_extent([-125, -73, 25, 50],ccrs.PlateCarree())\n",
    "    ax.coastlines('50m', linewidth=0.75)\n",
    "    ax.add_feature(cfeature.STATES, linewidth=0.5)\n",
    "    return fig, ax"
   ]
  },
  {
   "cell_type": "markdown",
   "metadata": {},
   "source": [
    "## 850-hPa Temperature Advection\n",
    "\n",
    "* Add one contour (Temperature in Celsius with a dotted linestyle\n",
    "* Add one colorfill (Temperature Advection in C/hr)\n",
    "\n",
    "<div class=\"alert alert-success\">\n",
    "    <b>EXERCISE</b>:\n",
    "     <ul>\n",
    "      <li>Add one contour (Temperature in Celsius with a dotted linestyle</li>\n",
    "      <li>Add one filled contour (Temperature Advection in C/hr)</li>\n",
    "    </ul>\n",
    "</div>\n"
   ]
  },
  {
   "cell_type": "code",
   "execution_count": null,
   "metadata": {},
   "outputs": [],
   "source": [
    "fig, ax = create_map_background()\n",
    "\n",
    "# Contour 1 - Temperature, dotted\n",
    "# Your code here!\n",
    "\n",
    "# Contour 2\n",
    "clev850 = np.arange(0, 4000, 30)\n",
    "cs = ax.contour(lon, lat, hght_850, clev850, colors='k',\n",
    "                linewidths=1.0, linestyles='solid', transform=dataproj)\n",
    "\n",
    "plt.clabel(cs, fontsize=10, inline=1, inline_spacing=10, fmt='%i',\n",
    "           rightside_up=True, use_clabeltext=True)\n",
    "\n",
    "# Filled contours - Temperature advection\n",
    "contours = [-3, -2.2, -2, -1.5, -1, -0.5, 0.5, 1.0, 1.5, 2.0, 2.5, 3.0]\n",
    "# Your code here!\n",
    "\n",
    "# Vector\n",
    "ax.barbs(lon, lat, uwnd_850.to('kts').m, vwnd_850.to('kts').m,\n",
    "         regrid_shape=15, transform=dataproj)\n",
    "\n",
    "# Titles\n",
    "plt.title('850-hPa Geopotential Heights, Temperature (C), \\\n",
    "          Temp Adv (C/h), and Wind Barbs (kts)', loc='left')\n",
    "plt.title(f'VALID: {vtime}', loc='right')\n",
    "\n",
    "plt.tight_layout()\n",
    "plt.show()"
   ]
  },
  {
   "cell_type": "markdown",
   "metadata": {},
   "source": [
    "<div class=\"alert alert-info\">\n",
    "    <b>SOLUTION</b>\n",
    "</div>"
   ]
  },
  {
   "cell_type": "code",
   "execution_count": null,
   "metadata": {},
   "outputs": [],
   "source": [
    "# %load solutions/temp_adv_map_850.py"
   ]
  },
  {
   "cell_type": "markdown",
   "metadata": {},
   "source": [
    "## 500-hPa Absolute Vorticity\n",
    "\n",
    "<div class=\"alert alert-success\">\n",
    "    <b>EXERCISE</b>:\n",
    "     <ul>\n",
    "      <li>Add code for plotting vorticity as filled contours with given levels and colors.</li>\n",
    "    </ul>\n",
    "</div>"
   ]
  },
  {
   "cell_type": "code",
   "execution_count": null,
   "metadata": {},
   "outputs": [],
   "source": [
    "fig, ax = create_map_background()\n",
    "\n",
    "# Contour 1\n",
    "clev500 = np.arange(0, 7000, 60)\n",
    "cs = ax.contour(lon, lat, hght_500, clev500, colors='k',\n",
    "                linewidths=1.0, linestyles='solid', transform=dataproj)\n",
    "plt.clabel(cs, fontsize=10, inline=1, inline_spacing=4,\n",
    "           fmt='%i', rightside_up=True, use_clabeltext=True)\n",
    "\n",
    "# Filled contours\n",
    "# Set contour intervals for Absolute Vorticity\n",
    "clevavor500 = [-4, -3, -2, -1, 0, 7, 10, 13, 16, 19,\n",
    "               22, 25, 28, 31, 34, 37, 40, 43, 46]\n",
    "\n",
    "# Set colorfill colors for absolute vorticity\n",
    "# purple negative\n",
    "# yellow to orange positive\n",
    "colorsavor500 = ('#660066', '#660099', '#6600CC', '#6600FF',\n",
    "                 '#FFFFFF', '#ffE800', '#ffD800', '#ffC800',\n",
    "                 '#ffB800', '#ffA800', '#ff9800', '#ff8800',\n",
    "                 '#ff7800', '#ff6800', '#ff5800', '#ff5000',\n",
    "                 '#ff4000', '#ff3000')\n",
    "\n",
    "# YOUR CODE HERE!\n",
    "\n",
    "plt.colorbar(cf, orientation='horizontal', pad=0, aspect=50)\n",
    "\n",
    "# Vector\n",
    "ax.barbs(lon, lat, uwnd_500.to('kts').m, vwnd_500.to('kts').m,\n",
    "         regrid_shape=15, transform=dataproj)\n",
    "\n",
    "# Titles\n",
    "plt.title('500-hPa Geopotential Heights, Absolute Vorticity \\\n",
    "          (1/s), and Wind Barbs (kts)', loc='left')\n",
    "plt.title(f'VALID: {vtime}', loc='right')\n",
    "\n",
    "plt.tight_layout()\n",
    "plt.show()"
   ]
  },
  {
   "cell_type": "markdown",
   "metadata": {},
   "source": [
    "<div class=\"alert alert-info\">\n",
    "    <b>SOLUTION</b>\n",
    "</div>"
   ]
  },
  {
   "cell_type": "code",
   "execution_count": null,
   "metadata": {},
   "outputs": [],
   "source": [
    "# %load solutions/abs_vort_500.py"
   ]
  },
  {
   "cell_type": "markdown",
   "metadata": {},
   "source": [
    "## 300-hPa Wind Speed, Divergence, and Ageostrophic Wind\n",
    "\n",
    "<div class=\"alert alert-success\">\n",
    "    <b>EXERCISE</b>:\n",
    "     <ul>\n",
    "      <li>Add code to plot 300-hPa Ageostrophic Wind vectors using matplotlib's quiver function.</li>\n",
    "    </ul>\n",
    "</div>"
   ]
  },
  {
   "cell_type": "code",
   "execution_count": null,
   "metadata": {},
   "outputs": [],
   "source": [
    "fig, ax = create_map_background()\n",
    "\n",
    "# Contour 1\n",
    "clev300 = np.arange(0, 11000, 120)\n",
    "cs2 = ax.contour(lon, lat, div_300 * 10**5, range(-10, 11, 2),\n",
    "                 colors='grey', transform=dataproj)\n",
    "plt.clabel(cs2, fontsize=10, inline=1, inline_spacing=4,\n",
    "           fmt='%i', rightside_up=True, use_clabeltext=True)\n",
    "\n",
    "# Contour 2\n",
    "cs = ax.contour(lon, lat, hght_300, clev300, colors='k',\n",
    "                linewidths=1.0, linestyles='solid', transform=dataproj)\n",
    "plt.clabel(cs, fontsize=10, inline=1, inline_spacing=4,\n",
    "           fmt='%i', rightside_up=True, use_clabeltext=True)\n",
    "\n",
    "# Filled Contours\n",
    "spd300 = np.arange(50, 250, 20)\n",
    "cf = ax.contourf(lon, lat, wspd_300, spd300, cmap='BuPu',\n",
    "                 transform=dataproj, zorder=0)\n",
    "plt.colorbar(cf, orientation='horizontal', pad=0.0, aspect=50)\n",
    "\n",
    "# Vector of 300-hPa Ageostrophic Wind Vectors\n",
    "# Your code goes here!\n",
    "\n",
    "# Titles\n",
    "plt.title('300-hPa Geopotential Heights, Divergence (1/s),\\\n",
    "          Wind Speed (kts), Ageostrophic Wind Vector (m/s)',\n",
    "          loc='left')\n",
    "plt.title(f'VALID: {vtime}', loc='right')\n",
    "\n",
    "plt.tight_layout()\n",
    "plt.show()"
   ]
  },
  {
   "cell_type": "markdown",
   "metadata": {},
   "source": [
    "<div class=\"alert alert-info\">\n",
    "    <b>SOLUTION</b>\n",
    "</div>"
   ]
  },
  {
   "cell_type": "code",
   "execution_count": null,
   "metadata": {},
   "outputs": [],
   "source": [
    "# %load solutions/winds_300.py"
   ]
  },
  {
   "cell_type": "markdown",
   "metadata": {},
   "source": [
    "## Vorticity Tendency Terms\n",
    "\n",
    "Here is an example of a four-panel plot for a couple of terms in the Vorticity Tendency equation\n",
    "\n",
    "Upper-left Panel: Planetary Vorticity Advection\n",
    "\n",
    "Upper-right Panel: Relative Vorticity Advection\n",
    "\n",
    "Lower-left Panel: Absolute Vorticity Advection\n",
    "\n",
    "Lower-right Panel: Stretching Vorticity"
   ]
  },
  {
   "cell_type": "code",
   "execution_count": null,
   "metadata": {},
   "outputs": [],
   "source": [
    "fig=plt.figure(1,figsize=(21.,16.))\n",
    "\n",
    "# Upper-Left Panel\n",
    "ax=plt.subplot(221,projection=plotproj)\n",
    "ax.set_extent([-125.,-73,25.,50.],ccrs.PlateCarree())\n",
    "ax.coastlines('50m', linewidth=0.75)\n",
    "ax.add_feature(cfeature.STATES,linewidth=0.5)\n",
    "\n",
    "# Contour #1\n",
    "clev500 = np.arange(0,7000,60)\n",
    "cs = ax.contour(lon,lat,hght_500,clev500,colors='k',\n",
    "                linewidths=1.0,linestyles='solid',transform=dataproj)\n",
    "plt.clabel(cs, fontsize=10, inline=1, inline_spacing=3, fmt='%i', rightside_up=True, use_clabeltext=True)\n",
    "\n",
    "# Contour #2\n",
    "cs2 = ax.contour(lon,lat,f*10**4,np.arange(0,3,.05),colors='grey',\n",
    "                linewidths=1.0,linestyles='dashed',transform=dataproj)\n",
    "plt.clabel(cs2, fontsize=10, inline=1, inline_spacing=3, fmt='%.2f', rightside_up=True, use_clabeltext=True)\n",
    "\n",
    "# Colorfill\n",
    "cf = ax.contourf(lon,lat,f_adv*10**10,np.arange(-10,11,0.5),\n",
    "                 cmap='PuOr_r',extend='both',transform=dataproj)\n",
    "plt.colorbar(cf, orientation='horizontal',pad=0.0,aspect=50,extendrect=True)\n",
    "\n",
    "# Vector\n",
    "ax.barbs(lon,lat,uwnd_500.to('kts').m,vwnd_500.to('kts').m,regrid_shape=15,transform=dataproj)\n",
    "\n",
    "# Titles\n",
    "plt.title(r'500-hPa Geopotential Heights, Planetary Vorticity Advection ($*10^{10}$ 1/s^2)',loc='left')\n",
    "plt.title('VALID: %s' %(vtime),loc='right')\n",
    "\n",
    "\n",
    "\n",
    "# Upper-Right Panel\n",
    "ax=plt.subplot(222,projection=plotproj)\n",
    "ax.set_extent([-125.,-73,25.,50.],ccrs.PlateCarree())\n",
    "ax.coastlines('50m', linewidth=0.75)\n",
    "ax.add_feature(cfeature.STATES, linewidth=0.5)\n",
    "\n",
    "# Contour #1\n",
    "clev500 = np.arange(0,7000,60)\n",
    "cs = ax.contour(lon,lat,hght_500,clev500,colors='k',\n",
    "                linewidths=1.0,linestyles='solid',transform=dataproj)\n",
    "plt.clabel(cs, fontsize=10, inline=1, inline_spacing=3, fmt='%i', rightside_up=True, use_clabeltext=True)\n",
    "\n",
    "# Contour #2\n",
    "cs2 = ax.contour(lon,lat,vor_500*10**5,np.arange(-40,41,4),colors='grey',\n",
    "                linewidths=1.0,transform=dataproj)\n",
    "plt.clabel(cs2, fontsize=10, inline=1, inline_spacing=3, fmt='%d', rightside_up=True, use_clabeltext=True)\n",
    "\n",
    "# Colorfill\n",
    "cf = ax.contourf(lon,lat,relvort_adv*10**8,np.arange(-5,5.5,0.5),\n",
    "                 cmap='BrBG',extend='both',transform=dataproj)\n",
    "plt.colorbar(cf, orientation='horizontal',pad=0.0,aspect=50,extendrect=True)\n",
    "\n",
    "# Vector\n",
    "ax.barbs(lon,lat,uwnd_500.to('kts').m,vwnd_500.to('kts').m,regrid_shape=15,transform=dataproj)\n",
    "\n",
    "# Titles\n",
    "plt.title(r'500-hPa Geopotential Heights, Relative Vorticity Advection ($*10^{8}$ 1/s^2)',loc='left')\n",
    "plt.title('VALID: %s' %(vtime),loc='right')\n",
    "\n",
    "\n",
    "\n",
    "# Lower-Left Panel\n",
    "ax=plt.subplot(223,projection=plotproj)\n",
    "ax.set_extent([-125.,-73,25.,50.],ccrs.PlateCarree())\n",
    "ax.coastlines('50m', linewidth=0.75)\n",
    "ax.add_feature(cfeature.STATES, linewidth=0.5)\n",
    "\n",
    "# Contour #1\n",
    "clev500 = np.arange(0,7000,60)\n",
    "cs = ax.contour(lon,lat,hght_500,clev500,colors='k',\n",
    "                linewidths=1.0,linestyles='solid',transform=dataproj)\n",
    "plt.clabel(cs, fontsize=10, inline=1, inline_spacing=3, fmt='%i', rightside_up=True, use_clabeltext=True)\n",
    "\n",
    "# Contour #2\n",
    "cs2 = ax.contour(lon,lat,avor_500*10**5,np.arange(-5,41,4),colors='grey',\n",
    "                linewidths=1.0,transform=dataproj)\n",
    "plt.clabel(cs2, fontsize=10, inline=1, inline_spacing=3, fmt='%d', rightside_up=True, use_clabeltext=True)\n",
    "\n",
    "# Colorfill\n",
    "cf = ax.contourf(lon,lat,absvort_adv*10**8,np.arange(-5,5.5,0.5),\n",
    "                 cmap='RdBu',extend='both',transform=dataproj)\n",
    "plt.colorbar(cf, orientation='horizontal',pad=0.0,aspect=50,extendrect=True)\n",
    "\n",
    "# Vector\n",
    "ax.barbs(lon,lat,uwnd_500.to('kts').m,vwnd_500.to('kts').m,regrid_shape=15,transform=dataproj)\n",
    "\n",
    "# Titles\n",
    "plt.title(r'500-hPa Geopotential Heights, Absolute Vorticity Advection ($*10^{8}$ 1/s^2)',loc='left')\n",
    "plt.title('VALID: %s' %(vtime),loc='right')\n",
    "\n",
    "\n",
    "\n",
    "# Lower-Right Panel\n",
    "ax=plt.subplot(224,projection=plotproj)\n",
    "ax.set_extent([-125.,-73,25.,50.],ccrs.PlateCarree())\n",
    "ax.coastlines('50m', linewidth=0.75)\n",
    "ax.add_feature(cfeature.STATES, linewidth=0.5)\n",
    "\n",
    "# Contour #1\n",
    "clev500 = np.arange(0,7000,60)\n",
    "cs = ax.contour(lon,lat,hght_500,clev500,colors='k',\n",
    "                linewidths=1.0,linestyles='solid',transform=dataproj)\n",
    "plt.clabel(cs, fontsize=10, inline=1, inline_spacing=3, fmt='%i', rightside_up=True, use_clabeltext=True)\n",
    "\n",
    "# Contour #2\n",
    "cs2 = ax.contour(lon,lat,gaussian_filter(avor_500*10**5,sigma=1.0),np.arange(-5,41,4),colors='grey',\n",
    "                linewidths=1.0,transform=dataproj)\n",
    "plt.clabel(cs2, fontsize=10, inline=1, inline_spacing=3, fmt='%d', rightside_up=True, use_clabeltext=True)\n",
    "\n",
    "# Colorfill\n",
    "cf = ax.contourf(lon,lat,gaussian_filter(stretch_vort*10**9,sigma=1.0),np.arange(-15,16,1),\n",
    "                 cmap='PRGn',extend='both',transform=dataproj)\n",
    "plt.colorbar(cf, orientation='horizontal',pad=0.0,aspect=50,extendrect=True)\n",
    "\n",
    "# Vector\n",
    "ax.barbs(lon,lat,uwnd_500.to('kts').m,vwnd_500.to('kts').m,regrid_shape=15,transform=dataproj)\n",
    "\n",
    "# Titles\n",
    "plt.title(r'500-hPa Geopotential Heights, Stretching Vorticity ($*10^{9}$ 1/s^2)',loc='left')\n",
    "plt.title('VALID: %s' %(vtime),loc='right')\n",
    "\n",
    "plt.tight_layout()\n",
    "plt.show()"
   ]
  },
  {
   "cell_type": "markdown",
   "metadata": {},
   "source": [
    "## Plotting Data for Hand Calculation\n",
    "\n",
    "Calculating dynamic quantities with a computer is great and can allow for many different educational opportunities, but there are times when we want students to calculate those quantities by hand. So can we plot values of geopotential height, u-component of the wind, and v-component of the wind on a map? Yes! And its not too hard to do.\n",
    "\n",
    "Since we are using NARR data, we'll plot every third point to get a roughly 1 degree by 1 degree separation of grid points and thus an average grid spacing of 111 km (not exact, but close enough for back of the envelope calculations).\n",
    "\n",
    "To do our plotting we'll be using the functionality of MetPy to plot station plot data, but we'll use our gridded data to plot around our points. To do this we'll have to make or 2D data into 1D (which is made easy by the `ravel()` method associated with our data objects).\n",
    "\n",
    "First we'll want to set some bounds (so that we only plot what we want) and create a mask to make plotting easier.\n",
    "\n",
    "Second we'll set up our figure with a projection and then set up our \"stations\" at the grid points we desire using the MetPy class `StationPlot`\n",
    "\n",
    "https://unidata.github.io/MetPy/latest/api/generated/metpy.plots.StationPlot.html#metpy.plots.StationPlot\n",
    "\n",
    "Third we'll plot our points using matplotlibs `scatter()` function and use our stationplot object to plot data around our \"stations\""
   ]
  },
  {
   "cell_type": "code",
   "execution_count": null,
   "metadata": {},
   "outputs": [],
   "source": [
    "# Set lat/lon bounds for region to plot data\n",
    "LLlon = -104\n",
    "LLlat = 33\n",
    "URlon = -94\n",
    "URlat = 38.1\n",
    "\n",
    "# Set up mask so that you only plot what you want\n",
    "skip_points = (slice(None, None, 3), slice(None, None, 3))\n",
    "mask_lon = ((lon[skip_points].ravel() > LLlon + 0.05) & (lon[skip_points].ravel() < URlon + 0.01))\n",
    "mask_lat = ((lat[skip_points].ravel() < URlat - 0.01) & (lat[skip_points].ravel() > LLlat - 0.01))\n",
    "mask = mask_lon & mask_lat"
   ]
  },
  {
   "cell_type": "markdown",
   "metadata": {},
   "source": [
    "<div class=\"alert alert-success\">\n",
    "    <b>EXERCISE</b>:\n",
    "     <ul>\n",
    "      <li>Plot markers and data around the markers.</li>\n",
    "    </ul>\n",
    "</div>"
   ]
  },
  {
   "cell_type": "code",
   "execution_count": null,
   "metadata": {},
   "outputs": [],
   "source": [
    "# Set up plot basics and use StationPlot class from MetPy to help with plotting\n",
    "fig = plt.figure(figsize=(14, 8))\n",
    "ax = plt.subplot(111,projection=ccrs.LambertConformal(central_latitude=50,central_longitude=-107))\n",
    "ax.set_extent([LLlon,URlon,LLlat,URlat],ccrs.PlateCarree())\n",
    "ax.coastlines('50m', edgecolor='grey', linewidth=0.75)\n",
    "ax.add_feature(cfeature.STATES, edgecolor='grey', linewidth=0.5)\n",
    "\n",
    "# Set up station plotting using only every third element from arrays for plotting\n",
    "stationplot = StationPlot(ax, lon[skip_points].ravel()[mask],\n",
    "                          lat[skip_points].ravel()[mask],\n",
    "                          transform=ccrs.PlateCarree(), fontsize=12)\n",
    "\n",
    "# Plot markers then data around marker for calculation purposes\n",
    "# Your code goes here!\n",
    "\n",
    "# Title\n",
    "plt.title('Geopotential (m; top), U-wind (m/s; Lower Left), V-wind (m/s; Lower Right)')\n",
    "\n",
    "plt.tight_layout()\n",
    "plt.show()"
   ]
  },
  {
   "cell_type": "markdown",
   "metadata": {},
   "source": [
    "<div class=\"alert alert-info\">\n",
    "    <b>SOLUTION</b>\n",
    "</div>"
   ]
  },
  {
   "cell_type": "code",
   "execution_count": null,
   "metadata": {},
   "outputs": [],
   "source": [
    "# %load solutions/markers.py"
   ]
  }
 ],
 "metadata": {
  "anaconda-cloud": {},
  "kernelspec": {
   "display_name": "Python 3",
   "language": "python",
   "name": "python3"
  },
  "language_info": {
   "codemirror_mode": {
    "name": "ipython",
    "version": 3
   },
   "file_extension": ".py",
   "mimetype": "text/x-python",
   "name": "python",
   "nbconvert_exporter": "python",
   "pygments_lexer": "ipython3",
   "version": "3.7.6"
  }
 },
 "nbformat": 4,
 "nbformat_minor": 4
}
