{
 "cells": [
  {
   "cell_type": "markdown",
   "metadata": {
    "cell_marker": "\"\"\"",
    "lines_to_next_cell": 0
   },
   "source": [
    "Miller Composite Chart\n",
    "======================\n",
    "Create a Miller Composite chart based on Miller 1972 in Python with MetPy and\n",
    "Matplotlib."
   ]
  },
  {
   "cell_type": "code",
   "execution_count": null,
   "metadata": {},
   "outputs": [],
   "source": [
    "from datetime import datetime\n",
    "\n",
    "import cartopy.crs as ccrs\n",
    "import cartopy.feature as cfeature\n",
    "import matplotlib.lines as lines\n",
    "import matplotlib.patches as mpatches\n",
    "import matplotlib.pyplot as plt\n",
    "import metpy.calc as mpcalc\n",
    "from metpy.units import units\n",
    "from netCDF4 import num2date\n",
    "import numpy as np\n",
    "import numpy.ma as ma\n",
    "from scipy.ndimage import gaussian_filter\n",
    "from siphon.ncss import NCSS"
   ]
  },
  {
   "cell_type": "markdown",
   "metadata": {
    "cell_marker": "###########################"
   },
   "source": [
    "**Get the data**\n",
    "\n",
    "This example will use data from the North American Mesoscale Model Analysis\n",
    "(https://nomads.ncdc.gov/) for 12 UTC 27 April 2011."
   ]
  },
  {
   "cell_type": "code",
   "execution_count": null,
   "metadata": {},
   "outputs": [],
   "source": [
    "base_url = 'https://www.ncei.noaa.gov/thredds/ncss/grid/model-namanl/'\n",
    "dt = datetime(2011, 4, 27)\n",
    "ncss = NCSS('{}{dt:%Y%m}/{dt:%Y%m%d}/namanl_218_{dt:%Y%m%d}_'\n",
    "            '1800_000.grb'.format(base_url, dt=dt))\n",
    "\n",
    "# Query for required variables\n",
    "gfsdata = ncss.query().all_times()\n",
    "gfsdata.variables('Geopotential_height_isobaric',\n",
    "                  'u-component_of_wind_isobaric',\n",
    "                  'v-component_of_wind_isobaric',\n",
    "                  'Temperature_isobaric',\n",
    "                  'Relative_humidity_isobaric',\n",
    "                  'Best_4_layer_lifted_index_layer_between_two_pressure_'\n",
    "                  'difference_from_ground_layer',\n",
    "                  'Absolute_vorticity_isobaric',\n",
    "                  'Pressure_reduced_to_MSL_msl',\n",
    "                  'Dew_point_temperature_height_above_ground'\n",
    "                  ).add_lonlat()\n",
    "\n",
    "# Set the lat/lon box for the data to pull in.\n",
    "gfsdata.lonlat_box(-135, -60, 15, 65)\n",
    "\n",
    "# Actually getting the data\n",
    "data = ncss.get_data(gfsdata)\n",
    "\n",
    "# Assign variable names to collected data\n",
    "dtime = data.variables['Geopotential_height_isobaric'].dimensions[0]\n",
    "dlev = data.variables['Geopotential_height_isobaric'].dimensions[1]\n",
    "lat = data.variables['lat'][:]\n",
    "lon = data.variables['lon'][:]\n",
    "lev = units.hPa * data.variables[dlev][:]\n",
    "times = data.variables[dtime]\n",
    "vtimes = num2date(times[:], times.units)\n",
    "temps = data.variables['Temperature_isobaric']\n",
    "tmp = units.kelvin * temps[0, :]\n",
    "uwnd = (units.meter / units.second) * data.variables['u-component_of_wind_isobaric'][0, :]\n",
    "vwnd = (units.meter / units.second) * data.variables['v-component_of_wind_isobaric'][0, :]\n",
    "hgt = units.meter * data.variables['Geopotential_height_isobaric'][0, :]\n",
    "relh = units.percent * data.variables['Relative_humidity_isobaric'][0, :]\n",
    "lifted_index = (data.variables['Best_4_layer_lifted_index_layer_between_two_'\n",
    "                               'pressure_difference_from_ground_layer'][0, 0, :] *\n",
    "                units(data.variables['Best_4_layer_lifted_index_layer_between_two_'\n",
    "                                     'pressure_difference_from_ground_layer'].units))\n",
    "Td_sfc = (units(data.variables['Dew_point_temperature_height_above_ground'].units) *\n",
    "          data.variables['Dew_point_temperature_height_above_ground'][0, 0, :])\n",
    "avor = data.variables['Absolute_vorticity_isobaric'][0, :] * units('1/s')\n",
    "pmsl = (units(data.variables['Pressure_reduced_to_MSL_msl'].units) *\n",
    "        data.variables['Pressure_reduced_to_MSL_msl'][0, :])"
   ]
  },
  {
   "cell_type": "markdown",
   "metadata": {
    "cell_marker": "########################"
   },
   "source": [
    "Query for 00 UTC to calculate pressure falls and height change"
   ]
  },
  {
   "cell_type": "code",
   "execution_count": null,
   "metadata": {},
   "outputs": [],
   "source": [
    "ncss2 = NCSS('{}{dt:%Y%m}/{dt:%Y%m%d}/namanl_218_{dt:%Y%m%d}_'\n",
    "             '0600_000.grb'.format(base_url, dt=dt))\n",
    "\n",
    "# Query for required variables\n",
    "gfsdata = ncss.query().all_times()\n",
    "gfsdata.variables('Geopotential_height_isobaric',\n",
    "                  'Pressure_reduced_to_MSL_msl',\n",
    "                  ).add_lonlat()\n",
    "\n",
    "# Set the lat/lon box for the data you want to pull in.\n",
    "gfsdata.lonlat_box(-135, -60, 15, 65)\n",
    "\n",
    "# Actually getting the data\n",
    "data2 = ncss2.get_data(gfsdata)\n",
    "\n",
    "hgt_00z = units.meter * data2.variables['Geopotential_height_isobaric'][0, :]\n",
    "pmsl_00z = (units(data2.variables['Pressure_reduced_to_MSL_msl'].units) *\n",
    "            data2.variables['Pressure_reduced_to_MSL_msl'][0, :])"
   ]
  },
  {
   "cell_type": "markdown",
   "metadata": {
    "cell_marker": "###########################"
   },
   "source": [
    "**Subset the Data**\n",
    "\n",
    "With the data pulled in, we will now subset to the specific levels desired"
   ]
  },
  {
   "cell_type": "code",
   "execution_count": null,
   "metadata": {},
   "outputs": [],
   "source": [
    "# 300 hPa, index 28\n",
    "idx_300 = np.where(lev == 300. * units.hPa)[0][0]\n",
    "u_300 = uwnd[idx_300, :].to('kt')\n",
    "v_300 = vwnd[idx_300, :].to('kt')\n",
    "\n",
    "# 500 hPa, index 20\n",
    "idx_500 = np.where(lev == 500. * units.hPa)[0][0]\n",
    "avor_500 = avor[1, ]\n",
    "u_500 = uwnd[idx_500].to('kt')\n",
    "v_500 = vwnd[idx_500].to('kt')\n",
    "hgt_500 = hgt[idx_500]\n",
    "hgt_500_00z = hgt_00z[idx_500]\n",
    "\n",
    "# 700 hPa, index 12\n",
    "idx_700 = np.where(lev == 700. * units.hPa)[0][0]\n",
    "tmp_700 = tmp[idx_700].to('degC')\n",
    "rh_700 = relh[idx_700]\n",
    "\n",
    "# 850 hPa, index 6\n",
    "idx_850 = np.where(lev == 850. * units.hPa)[0][0]\n",
    "u_850 = uwnd[idx_850].to('kt')\n",
    "v_850 = vwnd[idx_850].to('kt')"
   ]
  },
  {
   "cell_type": "markdown",
   "metadata": {
    "cell_marker": "########################################"
   },
   "source": [
    "**Prepare Variables for Plotting**\n",
    "\n",
    "With the data queried and subset, we will make any needed calculations in preparation for\n",
    "plotting.\n",
    "\n",
    "**The following fields should be plotted:**\n",
    "\n",
    "  500-hPa cyclonic vorticity advection\n",
    "\n",
    "  Surface-based Lifted Index\n",
    "\n",
    "  The axis of the 300-hPa, 500-hPa, and 850-hPa jets\n",
    "\n",
    "  Surface dewpoint\n",
    "\n",
    "  700-hPa dewpoint depression\n",
    "\n",
    "  12-hr surface pressure falls and 500-hPa height changes"
   ]
  },
  {
   "cell_type": "code",
   "execution_count": null,
   "metadata": {},
   "outputs": [],
   "source": [
    "# 500 hPa CVA\n",
    "dx, dy = mpcalc.lat_lon_grid_deltas(lon, lat)\n",
    "vort_adv_500 = mpcalc.advection(avor_500, [u_500.to('m/s'), v_500.to('m/s')],\n",
    "                                (dx, dy)) * 1e9\n",
    "vort_adv_500_smooth = gaussian_filter(vort_adv_500, 4)"
   ]
  },
  {
   "cell_type": "markdown",
   "metadata": {
    "cell_marker": "####################################",
    "lines_to_next_cell": 0
   },
   "source": [
    "For the jet axes, we will calculate the windspeed at each level, and plot the highest values"
   ]
  },
  {
   "cell_type": "code",
   "execution_count": null,
   "metadata": {},
   "outputs": [],
   "source": [
    "wspd_300 = gaussian_filter(mpcalc.wind_speed(u_300, v_300), 5)\n",
    "wspd_500 = gaussian_filter(mpcalc.wind_speed(u_500, v_500), 5)\n",
    "wspd_850 = gaussian_filter(mpcalc.wind_speed(u_850, v_850), 5)"
   ]
  },
  {
   "cell_type": "markdown",
   "metadata": {
    "cell_marker": "################################",
    "lines_to_next_cell": 0
   },
   "source": [
    "700-hPa dewpoint depression will be calculated from Temperature_isobaric and RH"
   ]
  },
  {
   "cell_type": "code",
   "execution_count": null,
   "metadata": {},
   "outputs": [],
   "source": [
    "Td_dep_700 = tmp_700 - mpcalc.dewpoint_from_relative_humidity(tmp_700, rh_700)"
   ]
  },
  {
   "cell_type": "markdown",
   "metadata": {
    "cell_marker": "######################################",
    "lines_to_next_cell": 0
   },
   "source": [
    "12-hr surface pressure falls and 500-hPa height changes"
   ]
  },
  {
   "cell_type": "code",
   "execution_count": null,
   "metadata": {},
   "outputs": [],
   "source": [
    "pmsl_change = pmsl - pmsl_00z\n",
    "hgt_500_change = hgt_500 - hgt_500_00z"
   ]
  },
  {
   "cell_type": "markdown",
   "metadata": {
    "cell_marker": "######################################"
   },
   "source": [
    "To plot the jet axes, we will mask the wind fields below the upper 1/3 of windspeed."
   ]
  },
  {
   "cell_type": "code",
   "execution_count": null,
   "metadata": {},
   "outputs": [],
   "source": [
    "mask_500 = ma.masked_less_equal(wspd_500, 0.66 * np.max(wspd_500)).mask\n",
    "u_500[mask_500] = np.nan\n",
    "v_500[mask_500] = np.nan\n",
    "\n",
    "# 300 hPa\n",
    "mask_300 = ma.masked_less_equal(wspd_300, 0.66 * np.max(wspd_300)).mask\n",
    "u_300[mask_300] = np.nan\n",
    "v_300[mask_300] = np.nan\n",
    "\n",
    "# 850 hPa\n",
    "mask_850 = ma.masked_less_equal(wspd_850, 0.66 * np.max(wspd_850)).mask\n",
    "u_850[mask_850] = np.nan\n",
    "v_850[mask_850] = np.nan"
   ]
  },
  {
   "cell_type": "markdown",
   "metadata": {
    "cell_marker": "################################"
   },
   "source": [
    "**Create the Plot**\n",
    "\n",
    "With the data now ready, we will create the plot"
   ]
  },
  {
   "cell_type": "code",
   "execution_count": null,
   "metadata": {},
   "outputs": [],
   "source": [
    "# Set up our projection\n",
    "crs = ccrs.LambertConformal(central_longitude=-100.0, central_latitude=45.0)\n",
    "\n",
    "# Coordinates to limit map area\n",
    "bounds = [-122., -75., 25., 50.]"
   ]
  },
  {
   "cell_type": "markdown",
   "metadata": {
    "cell_marker": "#########################",
    "lines_to_next_cell": 0
   },
   "source": [
    "Plot the composite"
   ]
  },
  {
   "cell_type": "code",
   "execution_count": null,
   "metadata": {},
   "outputs": [],
   "source": [
    "fig = plt.figure(1, figsize=(17, 12))\n",
    "ax = fig.add_subplot(1, 1, 1, projection=crs)\n",
    "ax.set_extent(bounds, crs=ccrs.PlateCarree())\n",
    "ax.coastlines('50m', edgecolor='black', linewidth=0.75)\n",
    "ax.add_feature(cfeature.STATES, linewidth=0.25)\n",
    "\n",
    "# Plot Lifted Index\n",
    "cs1 = ax.contour(lon, lat, lifted_index, range(-8, -2, 2), transform=ccrs.PlateCarree(),\n",
    "                 colors='red', linewidths=0.75, linestyles='solid', zorder=7)\n",
    "cs1.clabel(fontsize=10, inline=1, inline_spacing=7,\n",
    "           fmt='%i', rightside_up=True, use_clabeltext=True)\n",
    "\n",
    "# Plot Surface pressure falls\n",
    "cs2 = ax.contour(lon, lat, pmsl_change.to('hPa'), range(-10, -1, 4),\n",
    "                 transform=ccrs.PlateCarree(),\n",
    "                 colors='k', linewidths=0.75, linestyles='dashed', zorder=6)\n",
    "cs2.clabel(fontsize=10, inline=1, inline_spacing=7,\n",
    "           fmt='%i', rightside_up=True, use_clabeltext=True)\n",
    "\n",
    "# Plot 500-hPa height falls\n",
    "cs3 = ax.contour(lon, lat, hgt_500_change, range(-60, -29, 15),\n",
    "                 transform=ccrs.PlateCarree(), colors='k', linewidths=0.75,\n",
    "                 linestyles='solid', zorder=5)\n",
    "cs3.clabel(fontsize=10, inline=1, inline_spacing=7,\n",
    "           fmt='%i', rightside_up=True, use_clabeltext=True)\n",
    "\n",
    "# Plot surface pressure\n",
    "ax.contourf(lon, lat, pmsl.to('hPa'), range(990, 1011, 20), alpha=0.5,\n",
    "            transform=ccrs.PlateCarree(),\n",
    "            colors='yellow', zorder=1)\n",
    "\n",
    "# Plot surface dewpoint\n",
    "ax.contourf(lon, lat, Td_sfc.to('degF'), range(65, 76, 10), alpha=0.4,\n",
    "            transform=ccrs.PlateCarree(),\n",
    "            colors=['green'], zorder=2)\n",
    "\n",
    "# Plot 700-hPa dewpoint depression\n",
    "ax.contourf(lon, lat, Td_dep_700, range(15, 46, 30), alpha=0.5, transform=ccrs.PlateCarree(),\n",
    "            colors='tan', zorder=3)\n",
    "\n",
    "# Plot Vorticity Advection\n",
    "ax.contourf(lon, lat, vort_adv_500_smooth, range(5, 106, 100), alpha=0.5,\n",
    "            transform=ccrs.PlateCarree(),\n",
    "            colors='BlueViolet', zorder=4)\n",
    "\n",
    "# Define a skip to reduce the barb point density\n",
    "skip_300 = (slice(None, None, 12), slice(None, None, 12))\n",
    "skip_500 = (slice(None, None, 10), slice(None, None, 10))\n",
    "skip_850 = (slice(None, None, 8), slice(None, None, 8))\n",
    "\n",
    "# 300-hPa wind barbs\n",
    "jet300 = ax.barbs(lon[skip_300], lat[skip_300], u_300[skip_300].m, v_300[skip_300].m, length=6,\n",
    "                  transform=ccrs.PlateCarree(),\n",
    "                  color='green', zorder=10, label='300-hPa Jet Core Winds (kt)')\n",
    "\n",
    "\n",
    "# 500-hPa wind barbs\n",
    "jet500 = ax.barbs(lon[skip_500], lat[skip_500], u_500[skip_500].m, v_500[skip_500].m, length=6,\n",
    "                  transform=ccrs.PlateCarree(),\n",
    "                  color='blue', zorder=9, label='500-hPa Jet Core Winds (kt)')\n",
    "\n",
    "# 850-hPa wind barbs\n",
    "jet850 = ax.barbs(lon[skip_850], lat[skip_850], u_850[skip_850].m, v_850[skip_850].m, length=6,\n",
    "                  transform=ccrs.PlateCarree(),\n",
    "                  color='k', zorder=8, label='850-hPa Jet Core Winds (kt)')\n",
    "\n",
    "# Legend\n",
    "purple = mpatches.Patch(color='BlueViolet', label='Cyclonic Absolute Vorticity Advection')\n",
    "yellow = mpatches.Patch(color='yellow', label='Surface MSLP < 1010 hPa')\n",
    "green = mpatches.Patch(color='green', label='Surface Td > 65 F')\n",
    "tan = mpatches.Patch(color='tan', label='700 hPa Dewpoint Depression > 15 C')\n",
    "red_line = lines.Line2D([], [], color='red', label='Best Lifted Index (C)')\n",
    "dashed_black_line = lines.Line2D([], [], linestyle='dashed', color='k',\n",
    "                                 label='12-hr Surface Pressure Falls (hPa)')\n",
    "black_line = lines.Line2D([], [], linestyle='solid', color='k',\n",
    "                          label='12-hr 500-hPa Height Falls (m)')\n",
    "leg = plt.legend(handles=[jet300, jet500, jet850, dashed_black_line, black_line, red_line,\n",
    "                          purple, tan, green, yellow], loc=3,\n",
    "                 title='Composite Analysis Valid: {:s}'.format(str(vtimes[0])),\n",
    "                 framealpha=1)\n",
    "leg.set_zorder(100)"
   ]
  },
  {
   "cell_type": "code",
   "execution_count": null,
   "metadata": {},
   "outputs": [],
   "source": []
  }
 ],
 "metadata": {
  "jupytext": {
   "cell_metadata_filter": "-all",
   "main_language": "python",
   "notebook_metadata_filter": "-all"
  },
  "kernelspec": {
   "display_name": "Python 3",
   "language": "python",
   "name": "python3"
  },
  "language_info": {
   "codemirror_mode": {
    "name": "ipython",
    "version": 3
   },
   "file_extension": ".py",
   "mimetype": "text/x-python",
   "name": "python",
   "nbconvert_exporter": "python",
   "pygments_lexer": "ipython3",
   "version": "3.8.2"
  }
 },
 "nbformat": 4,
 "nbformat_minor": 4
}
