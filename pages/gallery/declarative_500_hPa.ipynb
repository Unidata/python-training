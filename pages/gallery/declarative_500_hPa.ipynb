{
 "cells": [
  {
   "cell_type": "markdown",
   "metadata": {},
   "source": [
    "# Declarative 500-hPa Absolute Vorticity\n",
    "\n",
    "By: Kevin Goebbert\n",
    "\n",
    "This example uses the declarative syntax available through the MetPy package to allow a more convenient method for creating simple maps of atmospheric data. To plot aboslute vorticity, the data is scaled and reassigned to the xarray object for use in the declarative plotting interface."
   ]
  },
  {
   "cell_type": "code",
   "execution_count": null,
   "metadata": {},
   "outputs": [],
   "source": [
    "from datetime import datetime\n",
    "\n",
    "from metpy.plots import declarative\n",
    "from metpy.units import units\n",
    "import xarray as xr\n",
    "\n",
    "# Set date for desired dataset\n",
    "date = datetime(2012, 10, 31, 12)\n",
    "\n",
    "# Open dataset from NCEI\n",
    "ds = xr.open_dataset('https://www.ncei.noaa.gov/thredds/dodsC/'\n",
    "                     f'model-gfs-g4-anl-files/{date:%Y%m}/{date:%Y%m%d}/'\n",
    "                     f'gfsanl_4_{date:%Y%m%d}_{date:%H}00_000.grb2')\n",
    "\n",
    "# Subset Data to be just over CONUS\n",
    "ds_us = ds.sel(lon=slice(360-150, 360-50), lat=slice(65, 20))"
   ]
  },
  {
   "cell_type": "markdown",
   "metadata": {},
   "source": [
    "## Scale Data\n",
    "\n",
    "Since absolute vorticity has values much smaller than one, then for plotting contour values with labels it is adventageous to scale values to be whole numbers. This is done by multiplying the variable by `1*10^5` or `1e5`."
   ]
  },
  {
   "cell_type": "code",
   "execution_count": null,
   "metadata": {},
   "outputs": [],
   "source": [
    "ds_us['Absolute_vorticity_isobaric'].values = ds_us.Absolute_vorticity_isobaric.values * 1e5"
   ]
  },
  {
   "cell_type": "markdown",
   "metadata": {},
   "source": [
    "## Contour Intervals\n",
    "\n",
    "Since absolute vorticity rarely goes below zero in the Northern Hemisphere, we can set up a list of contour levels that doesn't include values near but greater than zero. The following code yields a list containing: `[-8, -7, -6, -5, -4, -3, -2, -1, 8, 9, 10, 11, 12, 13, 14, 15, 16, 17, 18, 19, 20, 21, 22, 23, 24, 25, 26, 27, 28, 29, 30, 31, 32, 33, 34, 35, 36, 37, 38, 39, 40, 41, 42, 43, 44, 45]`"
   ]
  },
  {
   "cell_type": "code",
   "execution_count": null,
   "metadata": {},
   "outputs": [],
   "source": [
    "# Absolute Vorticity colors\n",
    "# Use two different colormaps from matplotlib and combine into one color set\n",
    "clevs_500_avor = list(range(-8, 1, 1))+list(range(8, 46, 1))"
   ]
  },
  {
   "cell_type": "markdown",
   "metadata": {},
   "source": [
    "## The Plot\n",
    "\n",
    "Using the declarative interface in MetPy to plot the 500-hPa Geopotential Heights and Absolute Vorticity."
   ]
  },
  {
   "cell_type": "code",
   "execution_count": null,
   "metadata": {},
   "outputs": [],
   "source": [
    "# Set Contour Plot Parameters\n",
    "contour = declarative.ContourPlot()\n",
    "contour.data = ds_us\n",
    "contour.time = date\n",
    "contour.field = 'Geopotential_height_isobaric'\n",
    "contour.level = 500 * units.hPa\n",
    "contour.linecolor = 'black'\n",
    "contour.linestyle = '-'\n",
    "contour.linewidth = 2\n",
    "contour.clabels = True\n",
    "contour.contours = list(range(0, 20000, 60))\n",
    "\n",
    "# Set Color-filled Contour Parameters\n",
    "cfill = declarative.FilledContourPlot()\n",
    "cfill.data = ds_us\n",
    "cfill.time = date\n",
    "cfill.field = 'Absolute_vorticity_isobaric'\n",
    "cfill.level = 500 * units.hPa\n",
    "cfill.contours = clevs_500_avor\n",
    "cfill.colormap = 'PuOr_r'\n",
    "cfill.image_range = (-45, 45)\n",
    "cfill.colorbar = 'horizontal'\n",
    "\n",
    "# Panel for plot with Map features\n",
    "panel = declarative.MapPanel()\n",
    "panel.layout = (1, 1, 1)\n",
    "panel.area = (-124, -72, 24, 53)\n",
    "panel.projection = 'lcc'\n",
    "panel.layers = ['coastline', 'borders', 'states']\n",
    "panel.title = (f'{cfill.level} GFS Geopotential Heights'\n",
    "               f'and Absolute Vorticity at {date}')\n",
    "panel.plots = [cfill, contour]\n",
    "\n",
    "# Bringing it all together\n",
    "pc = declarative.PanelContainer()\n",
    "pc.size = (15, 14)\n",
    "pc.panels = [panel]\n",
    "\n",
    "pc.show()"
   ]
  },
  {
   "cell_type": "code",
   "execution_count": null,
   "metadata": {},
   "outputs": [],
   "source": []
  }
 ],
 "metadata": {
  "kernelspec": {
   "display_name": "Python 3",
   "language": "python",
   "name": "python3"
  },
  "language_info": {
   "codemirror_mode": {
    "name": "ipython",
    "version": 3
   },
   "file_extension": ".py",
   "mimetype": "text/x-python",
   "name": "python",
   "nbconvert_exporter": "python",
   "pygments_lexer": "ipython3",
   "version": "3.8.2"
  }
 },
 "nbformat": 4,
 "nbformat_minor": 4
}
