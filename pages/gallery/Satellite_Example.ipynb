{
 "cells": [
  {
   "cell_type": "markdown",
   "metadata": {
    "cell_marker": "\"\"\"",
    "lines_to_next_cell": 0
   },
   "source": [
    "WV Satellite Overlay Example\n",
    "============================\n",
    "\n",
    "Plot a Gini Satellite file and overlay GFS-based data.\n",
    "\n",
    "Using the Gini read capability of MetPy with Siphon to bring in the best GFS\n",
    "data according to the current time, plot an overlay of WV imagery with 300-hPa\n",
    "Geopotential Heights and Wind Barbs."
   ]
  },
  {
   "cell_type": "markdown",
   "metadata": {
    "cell_marker": "##############################################"
   },
   "source": [
    "Begin with imports, need a lot for this task."
   ]
  },
  {
   "cell_type": "code",
   "execution_count": null,
   "metadata": {},
   "outputs": [],
   "source": [
    "# A whole bunch of imports\n",
    "import cartopy.crs as ccrs\n",
    "import cartopy.feature as cfeature\n",
    "from matplotlib import patheffects\n",
    "import matplotlib.pyplot as plt\n",
    "from metpy.io import GiniFile\n",
    "from metpy.plots.ctables import registry\n",
    "from metpy.units import units\n",
    "from netCDF4 import num2date\n",
    "import scipy.ndimage as ndimage\n",
    "from siphon.catalog import TDSCatalog\n",
    "import xarray as xr"
   ]
  },
  {
   "cell_type": "markdown",
   "metadata": {
    "cell_marker": "##############################################"
   },
   "source": [
    "Get satellite data and set projection based on that data."
   ]
  },
  {
   "cell_type": "code",
   "execution_count": null,
   "metadata": {},
   "outputs": [],
   "source": [
    "# Scan the catalog and download the data\n",
    "satcat = TDSCatalog('https://thredds.ucar.edu/thredds/catalog/satellite/goes/west/'\n",
    "                    'products/CloudAndMoistureImagery/CONUS/Channel09/current/catalog.xml')\n",
    "dataset = satcat.datasets[0]\n",
    "gini_ds = xr.open_dataset(dataset.access_urls['OPENDAP'])\n",
    "\n",
    "# Pull parts out of the data file\n",
    "dat = gini_ds.metpy.parse_cf('Sectorized_CMI')\n",
    "data_var = gini_ds.variables['Sectorized_CMI']\n",
    "x = dat.x\n",
    "y = dat.y\n",
    "timestamp = dat.time.values.astype('datetime64[ms]').astype('O')"
   ]
  },
  {
   "cell_type": "markdown",
   "metadata": {
    "cell_marker": "##############################################"
   },
   "source": [
    "Use Siphon to obtain data that is close to the time of the satellite file"
   ]
  },
  {
   "cell_type": "code",
   "execution_count": null,
   "metadata": {},
   "outputs": [],
   "source": [
    "gfscat = TDSCatalog('http://thredds.ucar.edu/thredds/catalog/grib/'\n",
    "                    'NCEP/GFS/Global_0p5deg/catalog.xml')\n",
    "dataset = gfscat.datasets['Best GFS Half Degree Forecast Time Series']\n",
    "ncss = dataset.subset()\n",
    "\n",
    "# First get wind components data\n",
    "query_wind = ncss.query()\n",
    "query_wind.variables('u-component_of_wind_isobaric',\n",
    "                     'v-component_of_wind_isobaric')\n",
    "query_wind.add_lonlat().vertical_level(300 * 100)\n",
    "query_wind.time(timestamp)  # Use the time from the GINI file\n",
    "query_wind.lonlat_box(north=65, south=15, east=310, west=220)\n",
    "data_wind = ncss.get_data(query_wind)\n",
    "\n",
    "# Second get Geopotential height data because it has a different number of levels\n",
    "query_hght = ncss.query()\n",
    "query_hght.variables('Geopotential_height_isobaric')\n",
    "query_hght.add_lonlat().vertical_level(300 * 100)\n",
    "query_hght.time(timestamp)  # Use the time from the GINI file\n",
    "query_hght.lonlat_box(north=65, south=15, east=310, west=220)\n",
    "data_hght = ncss.get_data(query_hght)"
   ]
  },
  {
   "cell_type": "markdown",
   "metadata": {
    "cell_marker": "##############################################"
   },
   "source": [
    "Pull out specific variables and attach units."
   ]
  },
  {
   "cell_type": "code",
   "execution_count": null,
   "metadata": {},
   "outputs": [],
   "source": [
    "hght_300 = data_hght.variables['Geopotential_height_isobaric'][:].squeeze()\n",
    "uwnd_300 = data_wind.variables['u-component_of_wind_isobaric'][:].squeeze()\n",
    "vwnd_300 = data_wind.variables['v-component_of_wind_isobaric'][:].squeeze()\n",
    "\n",
    "Z_300 = units.meter * ndimage.gaussian_filter(hght_300, sigma=4, order=0)\n",
    "U_300 = units('m/s') * ndimage.gaussian_filter(uwnd_300, sigma=4, order=0)\n",
    "V_300 = units('m/s') * ndimage.gaussian_filter(vwnd_300, sigma=4, order=0)\n",
    "\n",
    "lon = data_hght.variables['lon'][:]\n",
    "lat = data_hght.variables['lat'][:]\n",
    "time = data_hght.variables[data_hght.variables['Geopotential_height_isobaric'].dimensions[0]]\n",
    "vtime = num2date(time[:], time.units)"
   ]
  },
  {
   "cell_type": "markdown",
   "metadata": {
    "cell_marker": "##############################################"
   },
   "source": [
    "Create figure with an overlay of WV Imagery with 300-hPa Heights and Wind"
   ]
  },
  {
   "cell_type": "code",
   "execution_count": null,
   "metadata": {},
   "outputs": [],
   "source": [
    "# Create the figure\n",
    "fig = plt.figure(figsize=(15, 15))\n",
    "ax = fig.add_subplot(1, 1, 1, projection=dat.metpy.cartopy_crs)\n",
    "\n",
    "# Add mapping information\n",
    "ax.coastlines(resolution='50m', color='black')\n",
    "ax.add_feature(cfeature.STATES, linestyle=':')\n",
    "ax.add_feature(cfeature.BORDERS, linewidth=2)\n",
    "\n",
    "# Plot the image with our colormapping choices\n",
    "wv_norm, wv_cmap = registry.get_with_range('WVCIMSS_r', 175, 290)\n",
    "im = ax.imshow(data_var[:], extent=(x.min(), x.max(), y.min(), y.max()), origin='upper',\n",
    "               cmap=wv_cmap, norm=wv_norm)\n",
    "\n",
    "# Add the text, complete with outline\n",
    "text = ax.text(0.99, 0.01, timestamp.strftime('%d %B %Y %H%MZ'),\n",
    "               horizontalalignment='right', transform=ax.transAxes,\n",
    "               color='white', fontsize='x-large', weight='bold')\n",
    "text.set_path_effects([patheffects.withStroke(linewidth=2, foreground='black')])\n",
    "\n",
    "# PLOT 300-hPa Geopotential Heights and Wind Barbs\n",
    "ax.set_extent([-132, -95, 25, 47], ccrs.Geodetic())\n",
    "cs = ax.contour(lon, lat, Z_300, colors='black', transform=ccrs.PlateCarree())\n",
    "ax.clabel(cs, fontsize=12, colors='k', inline=1, inline_spacing=8,\n",
    "          fmt='%i', rightside_up=True, use_clabeltext=True)\n",
    "\n",
    "wind_slice = slice(None, None, 8)\n",
    "ax.barbs(lon[wind_slice], lat[wind_slice],\n",
    "         U_300[wind_slice, wind_slice].to('knots').m,\n",
    "         V_300[wind_slice, wind_slice].to('knots').m, color='tab:red',\n",
    "         length=7, pivot='middle', transform=ccrs.PlateCarree())\n",
    "\n",
    "ax.set_title('300-hPa Geo Heights (m; black) and Wind Barbs (kt)', loc='left')\n",
    "ax.set_title(f'Valid: {vtime[0]}', loc='right');"
   ]
  },
  {
   "cell_type": "code",
   "execution_count": null,
   "metadata": {},
   "outputs": [],
   "source": []
  }
 ],
 "metadata": {
  "jupytext": {
   "cell_metadata_filter": "-all",
   "main_language": "python",
   "notebook_metadata_filter": "-all"
  },
  "kernelspec": {
   "display_name": "Python 3",
   "language": "python",
   "name": "python3"
  },
  "language_info": {
   "codemirror_mode": {
    "name": "ipython",
    "version": 3
   },
   "file_extension": ".py",
   "mimetype": "text/x-python",
   "name": "python",
   "nbconvert_exporter": "python",
   "pygments_lexer": "ipython3",
   "version": "3.8.2"
  }
 },
 "nbformat": 4,
 "nbformat_minor": 4
}
