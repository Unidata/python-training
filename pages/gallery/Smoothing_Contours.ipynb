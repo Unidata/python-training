{
 "cells": [
  {
   "cell_type": "markdown",
   "metadata": {
    "cell_marker": "\"\"\""
   },
   "source": [
    "Smoothing Contours\n",
    "==================\n",
    "\n",
    "Demonstrate how to smooth contour values from a higher resolution\n",
    "model field.\n",
    "\n",
    "By: Kevin Goebbert\n",
    "\n",
    "Date: 13 April 2017"
   ]
  },
  {
   "cell_type": "markdown",
   "metadata": {
    "cell_marker": "##################################",
    "lines_to_next_cell": 0
   },
   "source": [
    "Do the needed imports"
   ]
  },
  {
   "cell_type": "code",
   "execution_count": null,
   "metadata": {},
   "outputs": [],
   "source": [
    "from datetime import datetime\n",
    "\n",
    "import cartopy.crs as ccrs\n",
    "import cartopy.feature as cfeature\n",
    "import matplotlib.pyplot as plt\n",
    "import metpy.calc as mpcalc\n",
    "from metpy.units import units\n",
    "from netCDF4 import num2date\n",
    "import numpy as np\n",
    "import scipy.ndimage as ndimage\n",
    "from siphon.ncss import NCSS"
   ]
  },
  {
   "cell_type": "markdown",
   "metadata": {
    "cell_marker": "##################################",
    "lines_to_next_cell": 0
   },
   "source": [
    "Set up netCDF Subset Service link"
   ]
  },
  {
   "cell_type": "code",
   "execution_count": null,
   "metadata": {},
   "outputs": [],
   "source": [
    "dt = datetime(2016, 4, 16, 18)\n",
    "base_url = 'https://www.ncei.noaa.gov/thredds/ncss/grid/model-namanl/'\n",
    "ncss = NCSS('{}{dt:%Y%m}/{dt:%Y%m%d}/namanl_218_{dt:%Y%m%d}_'\n",
    "            '{dt:%H}00_000.grb'.format(base_url, dt=dt))\n",
    "\n",
    "# Data Query\n",
    "hgt = ncss.query().time(dt)\n",
    "hgt.variables('Geopotential_height_isobaric', 'u-component_of_wind_isobaric',\n",
    "              'v-component_of_wind_isobaric').add_lonlat()\n",
    "\n",
    "# Actually getting the data\n",
    "data = ncss.get_data(hgt)"
   ]
  },
  {
   "cell_type": "markdown",
   "metadata": {
    "cell_marker": "##################################"
   },
   "source": [
    "Pull apart the data"
   ]
  },
  {
   "cell_type": "code",
   "execution_count": null,
   "metadata": {},
   "outputs": [],
   "source": [
    "# Get dimension names to pull appropriate variables\n",
    "dtime = data.variables['Geopotential_height_isobaric'].dimensions[0]\n",
    "dlev = data.variables['Geopotential_height_isobaric'].dimensions[1]\n",
    "dlat = data.variables['Geopotential_height_isobaric'].dimensions[2]\n",
    "dlon = data.variables['Geopotential_height_isobaric'].dimensions[3]\n",
    "\n",
    "# Get lat and lon data, as well as time data and metadata\n",
    "lats = data.variables['lat'][:]\n",
    "lons = data.variables['lon'][:]\n",
    "lons[lons > 180] = lons[lons > 180] - 360\n",
    "\n",
    "# Need 2D lat/lons for plotting, do so if necessary\n",
    "if lats.ndim < 2:\n",
    "    lons, lats = np.meshgrid(lons, lats)\n",
    "\n",
    "# Determine the level of 500 hPa\n",
    "levs = data.variables[dlev][:]\n",
    "lev_500 = np.where(levs == 500)[0][0]\n",
    "\n",
    "# Create more useable times for output\n",
    "times = data.variables[dtime]\n",
    "vtimes = num2date(times[:], times.units)\n",
    "\n",
    "# Pull out the 500 hPa Heights\n",
    "hght = units.meter * data.variables['Geopotential_height_isobaric'][:].squeeze()\n",
    "uwnd = units('m/s') * data.variables['u-component_of_wind_isobaric'][:].squeeze()\n",
    "vwnd = units('m/s') * data.variables['v-component_of_wind_isobaric'][:].squeeze()\n",
    "\n",
    "# Calculate the magnitude of the wind speed in kts\n",
    "sped = mpcalc.wind_speed(uwnd, vwnd).to('knots')"
   ]
  },
  {
   "cell_type": "markdown",
   "metadata": {
    "cell_marker": "##################################",
    "lines_to_next_cell": 0
   },
   "source": [
    "Set up the projection for LCC"
   ]
  },
  {
   "cell_type": "code",
   "execution_count": null,
   "metadata": {},
   "outputs": [],
   "source": [
    "plotcrs = ccrs.LambertConformal(central_longitude=-100.0, central_latitude=45.0)\n",
    "datacrs = ccrs.PlateCarree(central_longitude=0.)"
   ]
  },
  {
   "cell_type": "markdown",
   "metadata": {
    "cell_marker": "##################################"
   },
   "source": [
    "Subset and smooth"
   ]
  },
  {
   "cell_type": "code",
   "execution_count": null,
   "metadata": {},
   "outputs": [],
   "source": [
    "# Subset the data arrays to grab only 500 hPa\n",
    "hght_500 = hght[lev_500]\n",
    "uwnd_500 = uwnd[lev_500]\n",
    "vwnd_500 = vwnd[lev_500]\n",
    "\n",
    "# Smooth the 500-hPa geopotential height field\n",
    "# Be sure to only smooth the 2D field\n",
    "Z_500 = ndimage.gaussian_filter(hght_500, sigma=5, order=0)"
   ]
  },
  {
   "cell_type": "markdown",
   "metadata": {
    "cell_marker": "##################################"
   },
   "source": [
    "Plot the contours"
   ]
  },
  {
   "cell_type": "code",
   "execution_count": null,
   "metadata": {},
   "outputs": [],
   "source": [
    "# Start plot with new figure and axis\n",
    "fig = plt.figure(figsize=(17., 11.))\n",
    "ax = plt.subplot(1, 1, 1, projection=plotcrs)\n",
    "\n",
    "# Add some titles to make the plot readable by someone else\n",
    "plt.title('500-hPa Geo Heights (m; black), Smoothed 500-hPa Geo. Heights (m; red)',\n",
    "          loc='left')\n",
    "plt.title('VALID: {}'.format(vtimes[0]), loc='right')\n",
    "\n",
    "# Set GAREA and add map features\n",
    "ax.set_extent([-125., -67., 22., 52.], ccrs.PlateCarree())\n",
    "ax.coastlines('50m', edgecolor='black', linewidth=0.75)\n",
    "ax.add_feature(cfeature.STATES, linewidth=0.5)\n",
    "\n",
    "# Set the CINT\n",
    "clev500 = np.arange(5100, 6000, 60)\n",
    "\n",
    "# Plot smoothed 500-hPa contours\n",
    "cs2 = ax.contour(lons, lats, Z_500, clev500, colors='red',\n",
    "                 linewidths=3, linestyles='solid', transform=datacrs)\n",
    "c2 = plt.clabel(cs2, fontsize=12, colors='red', inline=1, inline_spacing=8,\n",
    "                fmt='%i', rightside_up=True, use_clabeltext=True)\n",
    "\n",
    "# Contour the 500 hPa heights with labels\n",
    "cs = ax.contour(lons, lats, hght_500, clev500, colors='black',\n",
    "                linewidths=2.5, linestyles='solid', alpha=0.6, transform=datacrs)\n",
    "cl = plt.clabel(cs, fontsize=12, colors='k', inline=1, inline_spacing=8,\n",
    "                fmt='%i', rightside_up=True, use_clabeltext=True);"
   ]
  },
  {
   "cell_type": "code",
   "execution_count": null,
   "metadata": {},
   "outputs": [],
   "source": []
  }
 ],
 "metadata": {
  "jupytext": {
   "cell_metadata_filter": "-all",
   "main_language": "python",
   "notebook_metadata_filter": "-all"
  },
  "kernelspec": {
   "display_name": "Python 3",
   "language": "python",
   "name": "python3"
  },
  "language_info": {
   "codemirror_mode": {
    "name": "ipython",
    "version": 3
   },
   "file_extension": ".py",
   "mimetype": "text/x-python",
   "name": "python",
   "nbconvert_exporter": "python",
   "pygments_lexer": "ipython3",
   "version": "3.8.2"
  }
 },
 "nbformat": 4,
 "nbformat_minor": 4
}
