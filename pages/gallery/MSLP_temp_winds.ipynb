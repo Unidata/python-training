{
 "cells": [
  {
   "cell_type": "markdown",
   "metadata": {
    "cell_marker": "\"\"\""
   },
   "source": [
    "Model Surface Output\n",
    "=============================\n",
    "\n",
    "Plot an surface map with mean sea level pressure (MSLP),\n",
    "2m Temperature (F), and Wind Barbs (kt)."
   ]
  },
  {
   "cell_type": "markdown",
   "metadata": {
    "cell_marker": "###############################",
    "lines_to_next_cell": 0
   },
   "source": [
    "Imports"
   ]
  },
  {
   "cell_type": "code",
   "execution_count": null,
   "metadata": {},
   "outputs": [],
   "source": [
    "from datetime import datetime\n",
    "\n",
    "import cartopy.crs as ccrs\n",
    "import cartopy.feature as cfeature\n",
    "import matplotlib.pyplot as plt\n",
    "from metpy.units import units\n",
    "from netCDF4 import num2date\n",
    "import numpy as np\n",
    "import scipy.ndimage as ndimage\n",
    "from siphon.ncss import NCSS"
   ]
  },
  {
   "cell_type": "markdown",
   "metadata": {
    "cell_marker": "#################################"
   },
   "source": [
    "Helper functions"
   ]
  },
  {
   "cell_type": "code",
   "execution_count": null,
   "metadata": {
    "lines_to_next_cell": 1
   },
   "outputs": [],
   "source": [
    "# Helper function for finding proper time variable\n",
    "def find_time_var(var, time_basename='time'):\n",
    "    for coord_name in var.coordinates.split():\n",
    "        if coord_name.startswith(time_basename):\n",
    "            return coord_name\n",
    "    raise ValueError('No time variable found for ' + var.name)"
   ]
  },
  {
   "cell_type": "markdown",
   "metadata": {
    "cell_marker": "###############################################"
   },
   "source": [
    "Create NCSS object to access the NetcdfSubset\n",
    "---------------------------------------------\n",
    "Data from NCEI GFS 0.5 deg Analysis Archive"
   ]
  },
  {
   "cell_type": "code",
   "execution_count": null,
   "metadata": {},
   "outputs": [],
   "source": [
    "base_url = 'https://www.ncei.noaa.gov/thredds/ncss/grid/model-gfs-g4-anl-files/'\n",
    "dt = datetime(2018, 1, 4, 12)\n",
    "ncss = NCSS('{}{dt:%Y%m}/{dt:%Y%m%d}/gfsanl_4_{dt:%Y%m%d}'\n",
    "            '_{dt:%H}00_000.grb2'.format(base_url, dt=dt))\n",
    "\n",
    "# Create lat/lon box for location you want to get data for\n",
    "query = ncss.query().time(dt)\n",
    "query.lonlat_box(north=65, south=15, east=310, west=220)\n",
    "query.accept('netcdf')\n",
    "\n",
    "# Request data for model \"surface\" data\n",
    "query.variables('Pressure_reduced_to_MSL_msl',\n",
    "                'Apparent_temperature_height_above_ground',\n",
    "                'u-component_of_wind_height_above_ground',\n",
    "                'v-component_of_wind_height_above_ground')\n",
    "data = ncss.get_data(query)"
   ]
  },
  {
   "cell_type": "markdown",
   "metadata": {
    "cell_marker": "###############################################"
   },
   "source": [
    "Begin data maipulation\n",
    "-----------------------\n",
    "Data for the surface from a model is a bit complicated.\n",
    "The variables come from different levels and may have different data array shapes.\n",
    "\n",
    "MSLP: Pressure_reduced_to_MSL_msl (time, lat, lon)\n",
    "2m Temp: Apparent_temperature_height_above_ground (time, level, lat, lon)\n",
    "10m Wind: u/v-component_of_wind_height_above_ground (time, level, lat, lon)\n",
    "\n",
    "Height above ground Temp from GFS has one level (2m)\n",
    "Height above ground Wind from GFS has three levels (10m, 80m, 100m)"
   ]
  },
  {
   "cell_type": "code",
   "execution_count": null,
   "metadata": {},
   "outputs": [],
   "source": [
    "# Pull out variables you want to use\n",
    "mslp = data.variables['Pressure_reduced_to_MSL_msl'][:].squeeze()\n",
    "temp = units.K * data.variables['Apparent_temperature_height_above_ground'][:].squeeze()\n",
    "u_wind = units('m/s') * data.variables['u-component_of_wind_height_above_ground'][:].squeeze()\n",
    "v_wind = units('m/s') * data.variables['v-component_of_wind_height_above_ground'][:].squeeze()\n",
    "lat = data.variables['lat'][:].squeeze()\n",
    "lon = data.variables['lon'][:].squeeze()\n",
    "time_var = data.variables[find_time_var(data.variables['Pressure_reduced_to_MSL_msl'])]\n",
    "\n",
    "# Convert winds to knots\n",
    "u_wind.ito('kt')\n",
    "v_wind.ito('kt')\n",
    "\n",
    "# Convert number of hours since the reference time into an actual date\n",
    "time = num2date(time_var[:].squeeze(), time_var.units,\n",
    "                only_use_cftime_datetimes=False,\n",
    "                only_use_python_datetimes=True)\n",
    "\n",
    "lev_10m = np.where(data.variables['height_above_ground3'][:] == 10)[0][0]\n",
    "u_wind_10m = u_wind[lev_10m]\n",
    "v_wind_10m = v_wind[lev_10m]\n",
    "\n",
    "# Combine 1D latitude and longitudes into a 2D grid of locations\n",
    "lon_2d, lat_2d = np.meshgrid(lon, lat)\n",
    "\n",
    "# Smooth MSLP a little\n",
    "# Be sure to only put in a 2D lat/lon or Y/X array for smoothing\n",
    "smooth_mslp = ndimage.gaussian_filter(mslp, sigma=3, order=0) * units.Pa\n",
    "smooth_mslp.ito('hPa')"
   ]
  },
  {
   "cell_type": "markdown",
   "metadata": {
    "cell_marker": "###############################################"
   },
   "source": [
    "Begin map creation\n",
    "------------------"
   ]
  },
  {
   "cell_type": "code",
   "execution_count": null,
   "metadata": {},
   "outputs": [],
   "source": [
    "# Set Projection of Data\n",
    "datacrs = ccrs.PlateCarree()\n",
    "\n",
    "# Set Projection of Plot\n",
    "plotcrs = ccrs.LambertConformal(central_latitude=[30, 60], central_longitude=-100)\n",
    "\n",
    "# Create new figure\n",
    "fig = plt.figure(figsize=(11, 8.5))\n",
    "\n",
    "# Add the map and set the extent\n",
    "ax = plt.subplot(111, projection=plotcrs)\n",
    "plt.title('GFS Analysis MSLP, 2m Temperature (F), Wind Barbs (kt)'\n",
    "          ' {0:%d %B %Y %H:%MZ}'.format(time), fontsize=16)\n",
    "ax.set_extent([235., 290., 20., 55.])\n",
    "\n",
    "# Add state boundaries to plot\n",
    "states_provinces = cfeature.NaturalEarthFeature(category='cultural',\n",
    "                                                name='admin_1_states_provinces_lakes',\n",
    "                                                scale='50m', facecolor='none')\n",
    "ax.add_feature(states_provinces, edgecolor='black', linewidth=1)\n",
    "\n",
    "# Add country borders to plot\n",
    "country_borders = cfeature.NaturalEarthFeature(category='cultural',\n",
    "                                               name='admin_0_countries',\n",
    "                                               scale='50m', facecolor='none')\n",
    "ax.add_feature(country_borders, edgecolor='black', linewidth=1)\n",
    "\n",
    "# Plot MSLP Contours\n",
    "clev_mslp = np.arange(0, 1200, 4)\n",
    "cs = ax.contour(lon_2d, lat_2d, smooth_mslp, clev_mslp, colors='black', linewidths=1.5,\n",
    "                linestyles='solid', transform=datacrs)\n",
    "plt.clabel(cs, fontsize=10, inline=1, inline_spacing=10, fmt='%i',\n",
    "           rightside_up=True, use_clabeltext=True)\n",
    "\n",
    "# Plot 2m Temperature Contours\n",
    "clevtemp = np.arange(-60, 101, 10)\n",
    "cs2 = ax.contour(lon_2d, lat_2d, temp.to(units('degF')), clevtemp,\n",
    "                 colors='tab:red', linewidths=1.25, linestyles='dotted',\n",
    "                 transform=datacrs)\n",
    "plt.clabel(cs2, fontsize=10, inline=1, inline_spacing=10, fmt='%i',\n",
    "           rightside_up=True, use_clabeltext=True)\n",
    "\n",
    "# Plot 10m Wind Barbs\n",
    "ax.barbs(lon_2d, lat_2d, u_wind_10m.magnitude, v_wind_10m.magnitude,\n",
    "         length=6, regrid_shape=20, pivot='middle', transform=datacrs)"
   ]
  },
  {
   "cell_type": "code",
   "execution_count": null,
   "metadata": {},
   "outputs": [],
   "source": []
  }
 ],
 "metadata": {
  "jupytext": {
   "cell_metadata_filter": "-all",
   "main_language": "python",
   "notebook_metadata_filter": "-all"
  },
  "kernelspec": {
   "display_name": "Python 3",
   "language": "python",
   "name": "python3"
  },
  "language_info": {
   "codemirror_mode": {
    "name": "ipython",
    "version": 3
   },
   "file_extension": ".py",
   "mimetype": "text/x-python",
   "name": "python",
   "nbconvert_exporter": "python",
   "pygments_lexer": "ipython3",
   "version": "3.8.2"
  }
 },
 "nbformat": 4,
 "nbformat_minor": 4
}
