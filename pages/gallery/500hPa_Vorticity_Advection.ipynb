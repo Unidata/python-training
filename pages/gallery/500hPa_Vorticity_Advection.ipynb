{
 "cells": [
  {
   "cell_type": "markdown",
   "metadata": {
    "cell_marker": "\"\"\""
   },
   "source": [
    "500 hPa Vorticity Advection\n",
    "===========================\n",
    "\n",
    "Plot an 500-hPa map with calculating vorticity advection using MetPy calculations.\n",
    "\n",
    "Beyond just plotting 500-hPa level data, this uses calculations from `metpy.calc` to find\n",
    "the vorticity and vorticity advection. Currently, this needs an extra helper function to\n",
    "calculate the distance between lat/lon grid points."
   ]
  },
  {
   "cell_type": "markdown",
   "metadata": {
    "cell_marker": "########################################",
    "lines_to_next_cell": 0
   },
   "source": [
    "Imports"
   ]
  },
  {
   "cell_type": "code",
   "execution_count": null,
   "metadata": {},
   "outputs": [],
   "source": [
    "from datetime import datetime\n",
    "\n",
    "import cartopy.crs as ccrs\n",
    "import cartopy.feature as cfeature\n",
    "import matplotlib.gridspec as gridspec\n",
    "import matplotlib.pylab as plt\n",
    "import metpy.calc as mpcalc\n",
    "from metpy.units import units\n",
    "from netCDF4 import num2date\n",
    "import numpy as np\n",
    "import scipy.ndimage as ndimage\n",
    "from siphon.ncss import NCSS"
   ]
  },
  {
   "cell_type": "markdown",
   "metadata": {
    "cell_marker": "#######################################"
   },
   "source": [
    "Data Aquisition\n",
    "---------------"
   ]
  },
  {
   "cell_type": "code",
   "execution_count": null,
   "metadata": {},
   "outputs": [],
   "source": [
    "# Open the example netCDF data\n",
    "ncss = NCSS('https://www.ncei.noaa.gov/thredds/ncss/grid/model-namanl/'\n",
    "            '201604/20160416/namanl_218_20160416_1800_000.grb')\n",
    "now = datetime.utcnow()\n",
    "\n",
    "# Query for Latest GFS Run\n",
    "hgt = ncss.query().time(datetime(2016, 4, 16, 18)).accept('netcdf')\n",
    "hgt.variables('Geopotential_height_isobaric', 'u-component_of_wind_isobaric',\n",
    "              'v-component_of_wind_isobaric').add_lonlat()\n",
    "\n",
    "# Actually getting the data\n",
    "ds = ncss.get_data(hgt)\n",
    "\n",
    "lon = ds.variables['lon'][:]\n",
    "lat = ds.variables['lat'][:]\n",
    "\n",
    "times = ds.variables[ds.variables['Geopotential_height_isobaric'].dimensions[0]]\n",
    "vtime = num2date(times[:], units=times.units)\n",
    "\n",
    "\n",
    "lev_500 = np.where(ds.variables['isobaric'][:] == 500)[0][0]\n",
    "\n",
    "hght_500 = ds.variables['Geopotential_height_isobaric'][0, lev_500, :, :]\n",
    "hght_500 = ndimage.gaussian_filter(hght_500, sigma=3, order=0) * units.meter\n",
    "\n",
    "uwnd_500 = units('m/s') * ds.variables['u-component_of_wind_isobaric'][0, lev_500, :, :]\n",
    "vwnd_500 = units('m/s') * ds.variables['v-component_of_wind_isobaric'][0, lev_500, :, :]"
   ]
  },
  {
   "cell_type": "markdown",
   "metadata": {
    "cell_marker": "#######################################"
   },
   "source": [
    "Begin Data Calculations\n",
    "-----------------------"
   ]
  },
  {
   "cell_type": "code",
   "execution_count": null,
   "metadata": {},
   "outputs": [],
   "source": [
    "dx, dy = mpcalc.lat_lon_grid_deltas(lon, lat)\n",
    "\n",
    "f = mpcalc.coriolis_parameter(np.deg2rad(lat)).to(units('1/sec'))\n",
    "\n",
    "avor = mpcalc.vorticity(uwnd_500, vwnd_500, dx, dy) + f\n",
    "\n",
    "avor = ndimage.gaussian_filter(avor, sigma=3, order=0) * units('1/s')\n",
    "\n",
    "vort_adv = mpcalc.advection(avor, [uwnd_500, vwnd_500], (dx, dy)) * 1e9"
   ]
  },
  {
   "cell_type": "markdown",
   "metadata": {
    "cell_marker": "#######################################"
   },
   "source": [
    "Map Creation\n",
    "------------"
   ]
  },
  {
   "cell_type": "code",
   "execution_count": null,
   "metadata": {},
   "outputs": [],
   "source": [
    "# Set up Coordinate System for Plot and Transforms\n",
    "dproj = ds.variables['LambertConformal_Projection']\n",
    "globe = ccrs.Globe(ellipse='sphere', semimajor_axis=dproj.earth_radius,\n",
    "                   semiminor_axis=dproj.earth_radius)\n",
    "datacrs = ccrs.LambertConformal(central_latitude=dproj.latitude_of_projection_origin,\n",
    "                                central_longitude=dproj.longitude_of_central_meridian,\n",
    "                                standard_parallels=[dproj.standard_parallel],\n",
    "                                globe=globe)\n",
    "plotcrs = ccrs.LambertConformal(central_latitude=45., central_longitude=-100.,\n",
    "                                standard_parallels=[30, 60])\n",
    "\n",
    "fig = plt.figure(1, figsize=(14., 12))\n",
    "ax = plt.subplot(111, projection=plotcrs)\n",
    "\n",
    "# Plot Titles\n",
    "plt.title(r'500-hPa Heights (m), AVOR$*10^5$ ($s^{-1}$), AVOR Adv$*10^8$ ($s^{-2}$)',\n",
    "          loc='left')\n",
    "plt.title('VALID: {}'.format(vtime[0]), loc='right')\n",
    "\n",
    "# Plot Background\n",
    "ax.set_extent([235., 290., 20., 58.], ccrs.PlateCarree())\n",
    "ax.coastlines('50m', edgecolor='black', linewidth=0.75)\n",
    "ax.add_feature(cfeature.STATES, linewidth=.5)\n",
    "\n",
    "# Plot Height Contours\n",
    "clev500 = np.arange(5100, 6061, 60)\n",
    "cs = ax.contour(lon, lat, hght_500.m, clev500, colors='black', linewidths=1.0,\n",
    "                linestyles='solid', transform=ccrs.PlateCarree())\n",
    "plt.clabel(cs, fontsize=10, inline=1, inline_spacing=10, fmt='%i',\n",
    "           rightside_up=True, use_clabeltext=True)\n",
    "\n",
    "# Plot Absolute Vorticity Contours\n",
    "clevvort500 = np.arange(-9, 50, 5)\n",
    "cs2 = ax.contour(lon, lat, avor*10**5, clevvort500, colors='grey',\n",
    "                 linewidths=1.25, linestyles='dashed', transform=ccrs.PlateCarree())\n",
    "plt.clabel(cs2, fontsize=10, inline=1, inline_spacing=10, fmt='%i',\n",
    "           rightside_up=True, use_clabeltext=True)\n",
    "\n",
    "# Plot Colorfill of Vorticity Advection\n",
    "clev_avoradv = np.arange(-30, 31, 5)\n",
    "cf = ax.contourf(lon, lat, vort_adv.m, clev_avoradv[clev_avoradv != 0], extend='both',\n",
    "                 cmap='bwr', transform=ccrs.PlateCarree())\n",
    "\n",
    "cb = plt.colorbar(cf, orientation='horizontal', extendrect='True', ticks=clev_avoradv,\n",
    "                  pad=0, aspect=50)\n",
    "cb.set_label(r'$1/s^2$', size='large')\n",
    "\n",
    "# Plot Wind Barbs\n",
    "# Transform Vectors and plot wind barbs.\n",
    "ax.barbs(lon, lat, uwnd_500.to('kt').m, vwnd_500.to('kt').m, length=6, regrid_shape=20,\n",
    "         pivot='middle', transform=ccrs.PlateCarree())"
   ]
  },
  {
   "cell_type": "code",
   "execution_count": null,
   "metadata": {},
   "outputs": [],
   "source": []
  }
 ],
 "metadata": {
  "jupytext": {
   "cell_metadata_filter": "-all",
   "main_language": "python",
   "notebook_metadata_filter": "-all"
  },
  "kernelspec": {
   "display_name": "Python 3",
   "language": "python",
   "name": "python3"
  },
  "language_info": {
   "codemirror_mode": {
    "name": "ipython",
    "version": 3
   },
   "file_extension": ".py",
   "mimetype": "text/x-python",
   "name": "python",
   "nbconvert_exporter": "python",
   "pygments_lexer": "ipython3",
   "version": "3.8.2"
  }
 },
 "nbformat": 4,
 "nbformat_minor": 4
}
