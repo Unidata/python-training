{
 "cells": [
  {
   "cell_type": "markdown",
   "metadata": {
    "cell_marker": "\"\"\"",
    "lines_to_next_cell": 0
   },
   "source": [
    "Using Xarray for Data read and selection\n",
    "========================================\n",
    "\n",
    "Use Xarray module to read in model data from nomads server.\n",
    "\n",
    "This example uses the xarray module to access data from the nomads server for\n",
    "archive NAM analysis data via OPeNDAP. Xarray makes it easier to select times\n",
    "and levels, although you still have to know the coordinate variable name. A\n",
    "simple 500 hPa plot is created after selecting with xarray."
   ]
  },
  {
   "cell_type": "markdown",
   "metadata": {
    "cell_marker": "########################################",
    "lines_to_next_cell": 0
   },
   "source": [
    "Import all of our needed modules"
   ]
  },
  {
   "cell_type": "code",
   "execution_count": null,
   "metadata": {},
   "outputs": [],
   "source": [
    "from datetime import datetime\n",
    "\n",
    "import cartopy.crs as ccrs\n",
    "import cartopy.feature as cfeature\n",
    "import matplotlib.pyplot as plt\n",
    "import numpy as np\n",
    "import scipy.ndimage as ndimage\n",
    "import xarray as xr"
   ]
  },
  {
   "cell_type": "markdown",
   "metadata": {
    "cell_marker": "########################################"
   },
   "source": [
    "Accessing data using Xarray\n",
    "---------------------------"
   ]
  },
  {
   "cell_type": "code",
   "execution_count": null,
   "metadata": {},
   "outputs": [],
   "source": [
    "# Set year, month, day, and hour values as variables to make it\n",
    "# easier to change dates for a case study\n",
    "base_url = 'https://www.ncei.noaa.gov/thredds/dodsC/model-namanl/'\n",
    "dt = datetime(2016, 4, 16, 18)\n",
    "data = xr.open_dataset(f'{base_url}{dt:%Y%m}/{dt:%Y%m%d}/namanl_218_{dt:%Y%m%d}_'\n",
    "                       f'{dt:%H}00_000.grb', decode_times=True)\n",
    "\n",
    "# To list all available variables for this data set,\n",
    "# uncomment the following line\n",
    "# print(sorted(list(data.variables)))"
   ]
  },
  {
   "cell_type": "markdown",
   "metadata": {
    "cell_marker": "########################################"
   },
   "source": [
    "NAM data is in a projected coordinate and you get back the projection\n",
    "X and Y values in km"
   ]
  },
  {
   "cell_type": "code",
   "execution_count": null,
   "metadata": {},
   "outputs": [],
   "source": [
    "# X, Y values are in units of km, need them in meters for plotting/calculations\n",
    "# Make them 2D for plotting/calculations\n",
    "x, y = np.meshgrid(data.x.values * 1000., data.y.values * 1000.)"
   ]
  },
  {
   "cell_type": "markdown",
   "metadata": {
    "cell_marker": "########################################"
   },
   "source": [
    "Getting the valid times in a more useable format"
   ]
  },
  {
   "cell_type": "code",
   "execution_count": null,
   "metadata": {},
   "outputs": [],
   "source": [
    "# Get the valid times from the file\n",
    "vtimes = data.time.values.astype('datetime64[ms]').astype('O')\n",
    "print(vtimes)"
   ]
  },
  {
   "cell_type": "markdown",
   "metadata": {
    "cell_marker": "########################################"
   },
   "source": [
    "Xarray has some nice functionality to choose the time and level that\n",
    "you specifically want to use. In this example the time variable is 'time' and\n",
    "the level variable is 'isobaric1'. Unfortunately, these can be different with\n",
    "each file you use, so you'll always need to check what they are by listing\n",
    "the coordinate variable names"
   ]
  },
  {
   "cell_type": "code",
   "execution_count": null,
   "metadata": {},
   "outputs": [],
   "source": [
    "# print(data.Geopotential_height.coords)\n",
    "hght_500 = data.Geopotential_height_isobaric.sel(time1=vtimes[0], isobaric=500)\n",
    "uwnd_500 = data['u-component_of_wind_isobaric'].sel(time1=vtimes[0], isobaric=500)\n",
    "vwnd_500 = data['v-component_of_wind_isobaric'].sel(time1=vtimes[0], isobaric=500)"
   ]
  },
  {
   "cell_type": "markdown",
   "metadata": {
    "cell_marker": "########################################"
   },
   "source": [
    "Now make the 500-hPa map\n",
    "------------------------"
   ]
  },
  {
   "cell_type": "code",
   "execution_count": null,
   "metadata": {},
   "outputs": [],
   "source": [
    "# Must set data projection, NAM is LCC projection\n",
    "datacrs = ccrs.LambertConformal(\n",
    "    central_latitude=data.LambertConformal_Projection.latitude_of_projection_origin,\n",
    "    central_longitude=data.LambertConformal_Projection.longitude_of_central_meridian)\n",
    "\n",
    "# A different LCC projection for the plot.\n",
    "plotcrs = ccrs.LambertConformal(central_latitude=45., central_longitude=-100.,\n",
    "                                standard_parallels=[30, 60])\n",
    "\n",
    "fig = plt.figure(figsize=(17., 11.))\n",
    "ax = plt.axes(projection=plotcrs)\n",
    "ax.coastlines('50m', edgecolor='black')\n",
    "ax.add_feature(cfeature.STATES, linewidth=0.5)\n",
    "ax.set_extent([-130, -67, 20, 50], ccrs.PlateCarree())\n",
    "\n",
    "clev500 = np.arange(5100, 6000, 60)\n",
    "cs = ax.contour(x, y, ndimage.gaussian_filter(hght_500, sigma=5), clev500,\n",
    "                colors='k', linewidths=2.5, linestyles='solid', transform=datacrs)\n",
    "tl = plt.clabel(cs, fontsize=12, colors='k', inline=1, inline_spacing=8,\n",
    "                fmt='%i', rightside_up=True, use_clabeltext=True)\n",
    "# Here we put boxes around the clabels with a black boarder white facecolor\n",
    "for t in tl:\n",
    "    t.set_bbox({'fc': 'w'})\n",
    "\n",
    "# Transform Vectors before plotting, then plot wind barbs.\n",
    "ax.barbs(x, y, uwnd_500.values, vwnd_500.values, length=7, regrid_shape=20, transform=datacrs)\n",
    "\n",
    "# Add some titles to make the plot readable by someone else\n",
    "plt.title('500-hPa Geopotential Heights (m)', loc='left')\n",
    "plt.title(f'VALID: {vtimes[0]}', loc='right');"
   ]
  },
  {
   "cell_type": "code",
   "execution_count": null,
   "metadata": {},
   "outputs": [],
   "source": []
  }
 ],
 "metadata": {
  "jupytext": {
   "cell_metadata_filter": "-all",
   "main_language": "python",
   "notebook_metadata_filter": "-all"
  },
  "kernelspec": {
   "display_name": "Python 3",
   "language": "python",
   "name": "python3"
  },
  "language_info": {
   "codemirror_mode": {
    "name": "ipython",
    "version": 3
   },
   "file_extension": ".py",
   "mimetype": "text/x-python",
   "name": "python",
   "nbconvert_exporter": "python",
   "pygments_lexer": "ipython3",
   "version": "3.8.2"
  }
 },
 "nbformat": 4,
 "nbformat_minor": 4
}
