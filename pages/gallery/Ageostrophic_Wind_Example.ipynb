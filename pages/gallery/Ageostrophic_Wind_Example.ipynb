{
 "cells": [
  {
   "cell_type": "markdown",
   "metadata": {
    "cell_marker": "\"\"\""
   },
   "source": [
    "Geostrophic and Ageostrophic Wind\n",
    "=================================\n",
    "\n",
    "Plot a 1000-hPa map calculating the geostrophic from MetPy and finding the\n",
    "ageostrophic wind from the total wind and the geostrophic wind.\n",
    "\n",
    "This uses the geostrophic wind calculation from `metpy.calc` to find\n",
    "the geostrophic wind, then performs the simple subtraction to find the ageostrophic\n",
    "wind. Currently, this needs an extra helper function to calculate\n",
    "the distance between lat/lon grid points.\n",
    "\n",
    "Additionally, we utilize the `ndimage.zoom` method for smoothing the 1000-hPa\n",
    "height contours without smoothing the data."
   ]
  },
  {
   "cell_type": "markdown",
   "metadata": {
    "cell_marker": "########################################",
    "lines_to_next_cell": 0
   },
   "source": [
    "Imports"
   ]
  },
  {
   "cell_type": "code",
   "execution_count": null,
   "metadata": {},
   "outputs": [],
   "source": [
    "from datetime import datetime\n",
    "\n",
    "import cartopy.crs as ccrs\n",
    "import cartopy.feature as cfeature\n",
    "import matplotlib.pyplot as plt\n",
    "import metpy.calc as mpcalc\n",
    "from metpy.units import units\n",
    "from netCDF4 import num2date\n",
    "import numpy as np\n",
    "import scipy.ndimage as ndimage\n",
    "from siphon.ncss import NCSS"
   ]
  },
  {
   "cell_type": "markdown",
   "metadata": {
    "cell_marker": "########################################"
   },
   "source": [
    "Set up access to the data"
   ]
  },
  {
   "cell_type": "code",
   "execution_count": null,
   "metadata": {},
   "outputs": [],
   "source": [
    "# Create NCSS object to access the NetcdfSubset\n",
    "base_url = 'https://www.ncdc.noaa.gov/thredds/ncss//gfs-g4-anl-files/'\n",
    "dt = datetime(2016, 8, 22, 18)\n",
    "ncss = NCSS('{}{dt:%Y%m}/{dt:%Y%m%d}/gfsanl_4_{dt:%Y%m%d}_'\n",
    "            '{dt:%H}00_003.grb2'.format(base_url, dt=dt))\n",
    "\n",
    "# Create lat/lon box for location you want to get data for\n",
    "query = ncss.query()\n",
    "query.lonlat_box(north=50, south=30, east=-80, west=-115)\n",
    "query.time(datetime(2016, 8, 22, 21))\n",
    "\n",
    "# Request data for geopotential height\n",
    "query.variables('Geopotential_height_isobaric', 'u-component_of_wind_isobaric',\n",
    "                'v-component_of_wind_isobaric')\n",
    "query.vertical_level(100000)\n",
    "data = ncss.get_data(query)\n",
    "\n",
    "# Pull out variables you want to use\n",
    "height_var = data.variables['Geopotential_height_isobaric']\n",
    "u_wind_var = data.variables['u-component_of_wind_isobaric']\n",
    "v_wind_var = data.variables['v-component_of_wind_isobaric']\n",
    "\n",
    "# Find the name of the time coordinate\n",
    "for name in height_var.coordinates.split():\n",
    "    if name.startswith('time'):\n",
    "        time_var_name = name\n",
    "        break\n",
    "time_var = data.variables[time_var_name]\n",
    "\n",
    "lat_var = data.variables['lat']\n",
    "lon_var = data.variables['lon']\n",
    "\n",
    "# Get actual data values and remove any size 1 dimensions\n",
    "lat = lat_var[:].squeeze()\n",
    "lon = lon_var[:].squeeze()\n",
    "height = height_var[0, 0, :, :].squeeze()\n",
    "u_wind = u_wind_var[0, 0, :, :].squeeze() * units('m/s')\n",
    "v_wind = v_wind_var[0, 0, :, :].squeeze() * units('m/s')\n",
    "\n",
    "# Convert number of hours since the reference time into an actual date\n",
    "time = num2date(time_var[:].squeeze(), time_var.units)\n",
    "\n",
    "# Combine 1D latitude and longitudes into a 2D grid of locations\n",
    "lon_2d, lat_2d = np.meshgrid(lon, lat)\n",
    "\n",
    "# Smooth height data\n",
    "height = ndimage.gaussian_filter(height, sigma=1.5, order=0)\n",
    "\n",
    "# Set up some constants based on our projection, including the Coriolis parameter and\n",
    "# grid spacing, converting lon/lat spacing to Cartesian\n",
    "f = mpcalc.coriolis_parameter(np.deg2rad(lat_2d)).to('1/s')\n",
    "dx, dy = mpcalc.lat_lon_grid_deltas(lon_2d, lat_2d)\n",
    "\n",
    "# In MetPy 0.5, geostrophic_wind() assumes the order of the dimensions is (X, Y),\n",
    "# so we need to transpose from the input data, which are ordered lat (y), lon (x).\n",
    "# Once we get the components,transpose again so they match our original data.\n",
    "geo_wind_u, geo_wind_v = mpcalc.geostrophic_wind(height * units.m, f, dx, dy)\n",
    "geo_wind_u = geo_wind_u\n",
    "geo_wind_v = geo_wind_v\n",
    "\n",
    "# Calculate ageostrophic wind components\n",
    "ageo_wind_u = u_wind - geo_wind_u\n",
    "ageo_wind_v = v_wind - geo_wind_v\n",
    "\n",
    "# Create new figure\n",
    "fig = plt.figure(figsize=(15, 10), facecolor='black')\n",
    "\n",
    "# Add the map and set the extent\n",
    "ax = plt.axes(projection=ccrs.PlateCarree())\n",
    "ax.set_extent([-105., -93., 35., 43.])\n",
    "ax.background_patch.set_fill(False)\n",
    "\n",
    "# Add state boundaries to plot\n",
    "ax.add_feature(cfeature.STATES, edgecolor='white', linewidth=2)\n",
    "\n",
    "# Contour the heights every 10 m\n",
    "contours = np.arange(10, 200, 10)\n",
    "# Because we have a very local graphics area, the contours have joints\n",
    "# to smooth those out we can use `ndimage.zoom`\n",
    "zoom_500 = ndimage.zoom(height, 5)\n",
    "zlon = ndimage.zoom(lon_2d, 5)\n",
    "zlat = ndimage.zoom(lat_2d, 5)\n",
    "c = ax.contour(zlon, zlat, zoom_500, levels=contours,\n",
    "               colors='red', linewidths=4)\n",
    "ax.clabel(c, fontsize=12, inline=1, inline_spacing=3, fmt='%i')\n",
    "\n",
    "# Set up parameters for quiver plot. The slices below are used to subset the data (here\n",
    "# taking every 4th point in x and y). The quiver_kwargs are parameters to control the\n",
    "# appearance of the quiver so that they stay consistent between the calls.\n",
    "quiver_slices = (slice(None, None, 2), slice(None, None, 2))\n",
    "quiver_kwargs = {'headlength': 4, 'headwidth': 3, 'angles': 'uv', 'scale_units': 'xy',\n",
    "                 'scale': 20}\n",
    "\n",
    "# Plot the wind vectors\n",
    "wind = ax.quiver(lon_2d[quiver_slices], lat_2d[quiver_slices],\n",
    "                 u_wind[quiver_slices], v_wind[quiver_slices],\n",
    "                 color='blue', **quiver_kwargs)\n",
    "geo = ax.quiver(lon_2d[quiver_slices], lat_2d[quiver_slices],\n",
    "                geo_wind_u[quiver_slices], geo_wind_v[quiver_slices],\n",
    "                color='darkorchid', **quiver_kwargs)\n",
    "ageo = ax.quiver(lon_2d[quiver_slices], lat_2d[quiver_slices],\n",
    "                 ageo_wind_u[quiver_slices], ageo_wind_v[quiver_slices],\n",
    "                 color='lime', **quiver_kwargs)\n",
    "\n",
    "# Add a title to the plot\n",
    "plt.title('1000mb Geopotential Heights(m), Wind(blue), Geostrophic Wind(purple), and \\n'\n",
    "          'Ageostrophic Wind(green) for {0:%d %B %Y %H:%MZ}'.format(time),\n",
    "          color='white', size=14)"
   ]
  }
 ],
 "metadata": {
  "jupytext": {
   "cell_metadata_filter": "-all",
   "main_language": "python",
   "notebook_metadata_filter": "-all"
  },
  "kernelspec": {
   "display_name": "Python 3",
   "language": "python",
   "name": "python3"
  },
  "language_info": {
   "codemirror_mode": {
    "name": "ipython",
    "version": 3
   },
   "file_extension": ".py",
   "mimetype": "text/x-python",
   "name": "python",
   "nbconvert_exporter": "python",
   "pygments_lexer": "ipython3",
   "version": "3.7.6"
  }
 },
 "nbformat": 4,
 "nbformat_minor": 4
}
