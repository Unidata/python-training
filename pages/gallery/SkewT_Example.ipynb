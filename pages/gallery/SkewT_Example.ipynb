{
 "cells": [
  {
   "cell_type": "markdown",
   "metadata": {
    "cell_marker": "\"\"\""
   },
   "source": [
    "Skew-T Analysis\n",
    "===============\n",
    "\n",
    "Classic skew-T/log-p plot using data from University of Wyoming.\n",
    "\n",
    "This example uses example data from the University of Wyoming sounding\n",
    "archive for 12 UTC 31 October 2016 for Minneapolis, MN (MPX) and uses\n",
    "MetPy to plot the classic skew-T with Temperature, Dewpoint, and wind\n",
    "barbs."
   ]
  },
  {
   "cell_type": "code",
   "execution_count": null,
   "metadata": {},
   "outputs": [],
   "source": [
    "from datetime import datetime\n",
    "\n",
    "import matplotlib.pyplot as plt\n",
    "from metpy.plots import SkewT\n",
    "from metpy.units import pandas_dataframe_to_unit_arrays, units\n",
    "import numpy as np\n",
    "from siphon.simplewebservice.wyoming import WyomingUpperAir"
   ]
  },
  {
   "cell_type": "markdown",
   "metadata": {
    "cell_marker": "######################################################################"
   },
   "source": [
    "Set time using a datetime object and station as variables"
   ]
  },
  {
   "cell_type": "code",
   "execution_count": null,
   "metadata": {},
   "outputs": [],
   "source": [
    "dt = datetime(2016, 10, 26, 12)\n",
    "station = 'MPX'"
   ]
  },
  {
   "cell_type": "markdown",
   "metadata": {
    "cell_marker": "######################################################################"
   },
   "source": [
    "Grab Remote Data\n",
    "----------------\n",
    "\n",
    "This requires an internet connection to access the sounding data from a\n",
    "remote server at the University of Wyoming."
   ]
  },
  {
   "cell_type": "code",
   "execution_count": null,
   "metadata": {},
   "outputs": [],
   "source": [
    "# Read remote sounding data based on time (dt) and station\n",
    "df = WyomingUpperAir.request_data(dt, station)\n",
    "\n",
    "# Create dictionary of united arrays\n",
    "data = pandas_dataframe_to_unit_arrays(df)"
   ]
  },
  {
   "cell_type": "markdown",
   "metadata": {
    "cell_marker": "######################################################################"
   },
   "source": [
    "Isolate variables and attach units"
   ]
  },
  {
   "cell_type": "code",
   "execution_count": null,
   "metadata": {},
   "outputs": [],
   "source": [
    "# Isolate united arrays from dictionary to individual variables\n",
    "p = data['pressure']\n",
    "T = data['temperature']\n",
    "Td = data['dewpoint']\n",
    "u = data['u_wind']\n",
    "v = data['v_wind']"
   ]
  },
  {
   "cell_type": "markdown",
   "metadata": {
    "cell_marker": "######################################################################"
   },
   "source": [
    "Make Skew-T Plot\n",
    "----------------\n",
    "\n",
    "The code below makes a basic skew-T plot using the MetPy plot module\n",
    "that contains a SkewT class."
   ]
  },
  {
   "cell_type": "code",
   "execution_count": null,
   "metadata": {},
   "outputs": [],
   "source": [
    "# Change default to be better for skew-T\n",
    "fig = plt.figure(figsize=(9, 11))\n",
    "\n",
    "# Initiate the skew-T plot type from MetPy class loaded earlier\n",
    "skew = SkewT(fig, rotation=45)\n",
    "\n",
    "# Plot the data using normal plotting functions, in this case using\n",
    "# log scaling in Y, as dictated by the typical meteorological plot\n",
    "skew.plot(p, T, 'r')\n",
    "skew.plot(p, Td, 'g')\n",
    "skew.plot_barbs(p[::3], u[::3], v[::3], y_clip_radius=0.03)\n",
    "\n",
    "# Set some appropriate axes limits for x and y\n",
    "skew.ax.set_xlim(-30, 40)\n",
    "skew.ax.set_ylim(1020, 100)\n",
    "\n",
    "# Add the relevant special lines to plot throughout the figure\n",
    "skew.plot_dry_adiabats(t0=np.arange(233, 533, 10) * units.K,\n",
    "                       alpha=0.25, color='orangered')\n",
    "skew.plot_moist_adiabats(t0=np.arange(233, 400, 5) * units.K,\n",
    "                         alpha=0.25, color='tab:green')\n",
    "skew.plot_mixing_lines(pressure=np.arange(1000, 99, -20) * units.hPa,\n",
    "                       linestyle='dotted', color='tab:blue')\n",
    "\n",
    "# Add some descriptive titles\n",
    "plt.title('{} Sounding'.format(station), loc='left')\n",
    "plt.title('Valid Time: {}'.format(dt), loc='right');"
   ]
  }
 ],
 "metadata": {
  "jupytext": {
   "cell_metadata_filter": "-all",
   "main_language": "python",
   "notebook_metadata_filter": "-all"
  },
  "kernelspec": {
   "display_name": "Python 3",
   "language": "python",
   "name": "python3"
  },
  "language_info": {
   "codemirror_mode": {
    "name": "ipython",
    "version": 3
   },
   "file_extension": ".py",
   "mimetype": "text/x-python",
   "name": "python",
   "nbconvert_exporter": "python",
   "pygments_lexer": "ipython3",
   "version": "3.7.6"
  }
 },
 "nbformat": 4,
 "nbformat_minor": 4
}
