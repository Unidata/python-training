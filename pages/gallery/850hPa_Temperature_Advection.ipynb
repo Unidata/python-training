{
 "cells": [
  {
   "cell_type": "markdown",
   "metadata": {
    "cell_marker": "\"\"\""
   },
   "source": [
    "850 hPa Temperature Advection\n",
    "=============================\n",
    "\n",
    "Plot an 850 hPa map with calculating advection using MetPy.\n",
    "\n",
    "Beyond just plotting 850-hPa level data, this uses calculations from `metpy.calc` to find\n",
    "the temperature advection. Currently, this needs an extra helper function to calculate\n",
    "the distance between lat/lon grid points."
   ]
  },
  {
   "cell_type": "markdown",
   "metadata": {
    "cell_marker": "###############################",
    "lines_to_next_cell": 0
   },
   "source": [
    "Imports"
   ]
  },
  {
   "cell_type": "code",
   "execution_count": null,
   "metadata": {},
   "outputs": [],
   "source": [
    "from datetime import datetime\n",
    "\n",
    "import cartopy.crs as ccrs\n",
    "import cartopy.feature as cfeature\n",
    "import matplotlib.gridspec as gridspec\n",
    "import matplotlib.pyplot as plt\n",
    "import metpy.calc as mpcalc\n",
    "from metpy.units import units\n",
    "from netCDF4 import num2date\n",
    "import numpy as np\n",
    "import scipy.ndimage as ndimage\n",
    "from siphon.ncss import NCSS"
   ]
  },
  {
   "cell_type": "markdown",
   "metadata": {
    "cell_marker": "#################################"
   },
   "source": [
    "Helper functions"
   ]
  },
  {
   "cell_type": "code",
   "execution_count": null,
   "metadata": {
    "lines_to_next_cell": 1
   },
   "outputs": [],
   "source": [
    "# Helper function for finding proper time variable\n",
    "def find_time_var(var, time_basename='time'):\n",
    "    for coord_name in var.coordinates.split():\n",
    "        if coord_name.startswith(time_basename):\n",
    "            return coord_name\n",
    "    raise ValueError('No time variable found for ' + var.name)"
   ]
  },
  {
   "cell_type": "markdown",
   "metadata": {
    "cell_marker": "###############################################"
   },
   "source": [
    "Create NCSS object to access the NetcdfSubset\n",
    "---------------------------------------------\n",
    "Data from NCEI GFS 0.5 deg Analysis Archive"
   ]
  },
  {
   "cell_type": "code",
   "execution_count": null,
   "metadata": {},
   "outputs": [],
   "source": [
    "base_url = 'https://www.ncdc.noaa.gov/thredds/ncss//gfs-g4-anl-files/'\n",
    "dt = datetime(2017, 4, 5, 12)\n",
    "ncss = NCSS('{}{dt:%Y%m}/{dt:%Y%m%d}/gfsanl_4_{dt:%Y%m%d}_'\n",
    "            '{dt:%H}00_000.grb2'.format(base_url, dt=dt))\n",
    "\n",
    "# Create lat/lon box for location you want to get data for\n",
    "query = ncss.query().time(dt)\n",
    "query.lonlat_box(north=65, south=15, east=310, west=220)\n",
    "query.accept('netcdf')\n",
    "\n",
    "# Request data for vorticity\n",
    "query.variables('Geopotential_height_isobaric', 'Temperature_isobaric',\n",
    "                'u-component_of_wind_isobaric', 'v-component_of_wind_isobaric')\n",
    "data = ncss.get_data(query)\n",
    "\n",
    "# Pull out variables you want to use\n",
    "hght_var = data.variables['Geopotential_height_isobaric']\n",
    "temp_var = data.variables['Temperature_isobaric']\n",
    "u_wind_var = data.variables['u-component_of_wind_isobaric']\n",
    "v_wind_var = data.variables['v-component_of_wind_isobaric']\n",
    "time_var = data.variables[find_time_var(temp_var)]\n",
    "lat_var = data.variables['lat']\n",
    "lon_var = data.variables['lon']\n",
    "\n",
    "# Get actual data values and remove any size 1 dimensions\n",
    "lat = lat_var[:].squeeze()\n",
    "lon = lon_var[:].squeeze()\n",
    "hght = hght_var[:].squeeze()\n",
    "temp = units.Quantity(temp_var[:].squeeze(), temp_var.units)\n",
    "u_wind = units.Quantity(u_wind_var[:].squeeze(), u_wind_var.units)\n",
    "v_wind = units.Quantity(v_wind_var[:].squeeze(), v_wind_var.units)\n",
    "\n",
    "# Convert number of hours since the reference time into an actual date\n",
    "time = num2date(time_var[:].squeeze(), time_var.units)\n",
    "\n",
    "lev_850 = np.where(data.variables['isobaric'][:] == 850*100)[0][0]\n",
    "hght_850 = hght[lev_850]\n",
    "temp_850 = temp[lev_850]\n",
    "u_wind_850 = u_wind[lev_850]\n",
    "v_wind_850 = v_wind[lev_850]\n",
    "\n",
    "# Combine 1D latitude and longitudes into a 2D grid of locations\n",
    "lon_2d, lat_2d = np.meshgrid(lon, lat)\n",
    "# Gridshift for barbs\n",
    "lon_2d[lon_2d > 180] = lon_2d[lon_2d > 180] - 360"
   ]
  },
  {
   "cell_type": "markdown",
   "metadata": {
    "cell_marker": "###############################################"
   },
   "source": [
    "Begin data calculations\n",
    "-----------------------"
   ]
  },
  {
   "cell_type": "code",
   "execution_count": null,
   "metadata": {},
   "outputs": [],
   "source": [
    "# Use helper function defined above to calculate distance\n",
    "# between lat/lon grid points\n",
    "dx, dy = mpcalc.lat_lon_grid_deltas(lon_var, lat_var)\n",
    "\n",
    "# Calculate temperature advection using metpy function\n",
    "adv = mpcalc.advection(temp_850, [u_wind_850, v_wind_850],\n",
    "                       (dx, dy), dim_order='yx')\n",
    "\n",
    "# Smooth heights and advection a little\n",
    "# Be sure to only put in a 2D lat/lon or Y/X array for smoothing\n",
    "Z_850 = mpcalc.smooth_gaussian(hght_850, 2)\n",
    "adv = mpcalc.smooth_gaussian(adv, 2)"
   ]
  },
  {
   "cell_type": "markdown",
   "metadata": {
    "cell_marker": "###############################################"
   },
   "source": [
    "Begin map creation\n",
    "------------------"
   ]
  },
  {
   "cell_type": "code",
   "execution_count": null,
   "metadata": {},
   "outputs": [],
   "source": [
    "# Set Projection of Data\n",
    "datacrs = ccrs.PlateCarree()\n",
    "\n",
    "# Set Projection of Plot\n",
    "plotcrs = ccrs.LambertConformal(central_latitude=[30, 60], central_longitude=-100)\n",
    "\n",
    "# Create new figure\n",
    "fig = plt.figure(figsize=(11, 8.5))\n",
    "gs = gridspec.GridSpec(2, 1, height_ratios=[1, .02], bottom=.07, top=.99,\n",
    "                       hspace=0.01, wspace=0.01)\n",
    "\n",
    "# Add the map and set the extent\n",
    "ax = plt.subplot(gs[0], projection=plotcrs)\n",
    "plt.title('850mb Temperature Advection for {0:%d %B %Y %H:%MZ}'.format(time), fontsize=16)\n",
    "ax.set_extent([235., 290., 20., 55.])\n",
    "\n",
    "# Add state/country boundaries to plot\n",
    "ax.add_feature(cfeature.STATES)\n",
    "ax.add_feature(cfeature.BORDERS)\n",
    "\n",
    "# Plot Height Contours\n",
    "clev850 = np.arange(900, 3000, 30)\n",
    "cs = ax.contour(lon_2d, lat_2d, Z_850, clev850, colors='black', linewidths=1.5,\n",
    "                linestyles='solid', transform=datacrs)\n",
    "plt.clabel(cs, fontsize=10, inline=1, inline_spacing=10, fmt='%i',\n",
    "           rightside_up=True, use_clabeltext=True)\n",
    "\n",
    "# Plot Temperature Contours\n",
    "clevtemp850 = np.arange(-20, 20, 2)\n",
    "cs2 = ax.contour(lon_2d, lat_2d, temp_850.to(units('degC')), clevtemp850,\n",
    "                 colors='grey', linewidths=1.25, linestyles='dashed',\n",
    "                 transform=datacrs)\n",
    "plt.clabel(cs2, fontsize=10, inline=1, inline_spacing=10, fmt='%i',\n",
    "           rightside_up=True, use_clabeltext=True)\n",
    "\n",
    "# Plot Colorfill of Temperature Advection\n",
    "cint = np.arange(-8, 9)\n",
    "cf = ax.contourf(lon_2d, lat_2d, 3*adv.to(units('delta_degC/hour')), cint[cint != 0],\n",
    "                 extend='both', cmap='bwr', transform=datacrs)\n",
    "cax = plt.subplot(gs[1])\n",
    "cb = plt.colorbar(cf, cax=cax, orientation='horizontal', extendrect=True, ticks=cint)\n",
    "cb.set_label(r'$^{o}C/3h$', size='large')\n",
    "\n",
    "# Plot Wind Barbs\n",
    "ax.barbs(lon_2d, lat_2d, u_wind_850.magnitude, v_wind_850.magnitude,\n",
    "         length=6, regrid_shape=20, pivot='middle', transform=datacrs)"
   ]
  }
 ],
 "metadata": {
  "jupytext": {
   "cell_metadata_filter": "-all",
   "main_language": "python",
   "notebook_metadata_filter": "-all"
  },
  "kernelspec": {
   "display_name": "Python 3",
   "language": "python",
   "name": "python3"
  },
  "language_info": {
   "codemirror_mode": {
    "name": "ipython",
    "version": 3
   },
   "file_extension": ".py",
   "mimetype": "text/x-python",
   "name": "python",
   "nbconvert_exporter": "python",
   "pygments_lexer": "ipython3",
   "version": "3.7.6"
  }
 },
 "nbformat": 4,
 "nbformat_minor": 4
}
