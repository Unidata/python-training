{
 "cells": [
  {
   "cell_type": "markdown",
   "metadata": {},
   "source": [
    "# Upperair Obs with Contours\n",
    "\n",
    "By: Kevin Goebbert\n",
    "\n",
    "An example using the declarative syntax to plot upperair observations and overlay contours."
   ]
  },
  {
   "cell_type": "code",
   "execution_count": null,
   "metadata": {},
   "outputs": [],
   "source": [
    "from datetime import datetime, timedelta\n",
    "\n",
    "import cartopy.crs as ccrs\n",
    "from metpy.io import add_station_lat_lon\n",
    "from metpy.plots.declarative import *\n",
    "from metpy.units import units\n",
    "import numpy as np\n",
    "from siphon.simplewebservice.iastate import IAStateUpperAir\n",
    "import xarray as xr"
   ]
  },
  {
   "cell_type": "markdown",
   "metadata": {},
   "source": [
    "## Get Upperair Observations\n",
    "\n",
    "Using the functionality from Siphon to get all of the upperair data from the Iowa State archive. This example uses the current time and determines the date for yesterday to make sure data is available. This data doesn't have lat/lon information, so we add it using the functionality from MetPy to add that information to a dataFrame."
   ]
  },
  {
   "cell_type": "code",
   "execution_count": null,
   "metadata": {},
   "outputs": [],
   "source": [
    "# Set the date for data and plot\n",
    "yesterday = datetime.utcnow() - timedelta(days=1)\n",
    "date = datetime(yesterday.year, yesterday.month, yesterday.day, 12)\n",
    "\n",
    "# Request data using Siphon request for data from Iowa State Archive\n",
    "data = IAStateUpperAir.request_all_data(date)\n",
    "\n",
    "# Add lat/lon information to dataframe\n",
    "data = add_station_lat_lon(data, data.station.name)"
   ]
  },
  {
   "cell_type": "markdown",
   "metadata": {},
   "source": [
    "## Get GFS data\n",
    "\n",
    "For plotting contours we need some gridded output. Using the UCAR THREDDS data server to obtain the appropriate model initial conditions to contour on top of our upperair observations."
   ]
  },
  {
   "cell_type": "code",
   "execution_count": null,
   "metadata": {},
   "outputs": [],
   "source": [
    "# Get GFS data for contouring\n",
    "ds = xr.open_dataset('https://thredds.ucar.edu/thredds/dodsC/grib/NCEP/GFS/'\n",
    "                     f'Global_onedeg_ana/GFS_Global_onedeg_ana_{date:%Y%m%d}_0000.grib2')"
   ]
  },
  {
   "cell_type": "markdown",
   "metadata": {},
   "source": [
    "## Make Plot\n",
    "\n",
    "Using the declarative syntax from MetPy, we plot observations and contours on the same map panel.\n",
    "\n",
    "There are also sqaures added to each observation location by using the axes that are generate by the declarative syntax to plot them using classic Matplotlib methods."
   ]
  },
  {
   "cell_type": "code",
   "execution_count": null,
   "metadata": {},
   "outputs": [],
   "source": [
    "# Add point observations\n",
    "obs = PlotObs()\n",
    "obs.data = data\n",
    "obs.level = 500 * units.hPa\n",
    "obs.time = date\n",
    "obs.fields = ['temperature', 'dewpoint', 'height']\n",
    "obs.locations = ['NW', 'SW', 'ENE']\n",
    "obs.vector_field = ['u_wind', 'v_wind']\n",
    "obs.vector_field_length = 8\n",
    "\n",
    "# Add contours of geopotential height\n",
    "cntr = ContourPlot()\n",
    "cntr.data = ds.sel(lat=slice(80, 10), lon=slice(360-140, 360-40))\n",
    "cntr.level = obs.level\n",
    "cntr.field = 'Geopotential_height_isobaric'\n",
    "cntr.clabels = True\n",
    "cntr.contours = list(range(0, 10000, 60))\n",
    "\n",
    "# set map panel features\n",
    "panel = MapPanel()\n",
    "panel.projection = 'lcc'\n",
    "panel.area = [-125, -65, 22, 55]\n",
    "panel.layers = ['states', 'borders', 'coastline']\n",
    "panel.plots = [obs, cntr]\n",
    "\n",
    "# Add map panel to figure\n",
    "pc = PanelContainer()\n",
    "pc.size = (20, 20)\n",
    "pc.panels = [panel]\n",
    "\n",
    "# Add a square marker at sounding site\n",
    "panel.ax.scatter(data.longitude, data.latitude, s=50, marker='s', color='black', transform=ccrs.PlateCarree())\n",
    "\n",
    "pc.show()"
   ]
  },
  {
   "cell_type": "code",
   "execution_count": null,
   "metadata": {},
   "outputs": [],
   "source": []
  }
 ],
 "metadata": {
  "kernelspec": {
   "display_name": "Python 3",
   "language": "python",
   "name": "python3"
  },
  "language_info": {
   "codemirror_mode": {
    "name": "ipython",
    "version": 3
   },
   "file_extension": ".py",
   "mimetype": "text/x-python",
   "name": "python",
   "nbconvert_exporter": "python",
   "pygments_lexer": "ipython3",
   "version": "3.8.2"
  }
 },
 "nbformat": 4,
 "nbformat_minor": 4
}
