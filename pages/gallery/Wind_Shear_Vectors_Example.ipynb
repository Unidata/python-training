{
 "cells": [
  {
   "cell_type": "markdown",
   "metadata": {
    "cell_marker": "\"\"\"",
    "lines_to_next_cell": 0
   },
   "source": [
    "Calculating Wind Shear\n",
    "======================\n",
    "\n",
    "This example plots calculates the 850-500 hPa Bulk Wind Shear\n",
    "\n",
    "Plotting over a regional domain, accessing the Best Collection of GFS from the\n",
    "Unidata Thredds server, plots MSLP (hPa), 850-hPa Wind Vector (m/s), 500-hPa\n",
    "Wind Vector (m/s), and the Wind Shear between the two layers (m/s)"
   ]
  },
  {
   "cell_type": "markdown",
   "metadata": {
    "cell_marker": "#####################################",
    "lines_to_next_cell": 0
   },
   "source": [
    "Import necessary packages and obtain data"
   ]
  },
  {
   "cell_type": "code",
   "execution_count": null,
   "metadata": {},
   "outputs": [],
   "source": [
    "from datetime import datetime\n",
    "\n",
    "import cartopy.crs as ccrs\n",
    "import cartopy.feature as cfeature\n",
    "import matplotlib.pyplot as plt\n",
    "from metpy.units import units\n",
    "from netCDF4 import num2date\n",
    "import numpy as np\n",
    "import scipy.ndimage as ndimage\n",
    "from siphon.catalog import TDSCatalog\n",
    "from siphon.ncss import NCSS"
   ]
  },
  {
   "cell_type": "markdown",
   "metadata": {
    "cell_marker": "######################################",
    "lines_to_next_cell": 0
   },
   "source": [
    "Helper function for finding proper time variable"
   ]
  },
  {
   "cell_type": "code",
   "execution_count": null,
   "metadata": {},
   "outputs": [],
   "source": [
    "def find_time_var(var, time_basename='time'):\n",
    "    for coord_name in var.coordinates.split():\n",
    "        if coord_name.startswith(time_basename):\n",
    "            return coord_name\n",
    "    raise ValueError('No time variable found for ' + var.name)"
   ]
  },
  {
   "cell_type": "markdown",
   "metadata": {
    "cell_marker": "#####################################"
   },
   "source": [
    "Obtain data"
   ]
  },
  {
   "cell_type": "code",
   "execution_count": null,
   "metadata": {},
   "outputs": [],
   "source": [
    "# Construct a TDSCatalog instance pointing to the gfs dataset\n",
    "best_gfs = TDSCatalog('http://thredds.ucar.edu/thredds/catalog/grib/'\n",
    "                      'NCEP/GFS/Global_0p5deg/catalog.xml')\n",
    "\n",
    "# Pull out the dataset you want to use and look at the access URLs\n",
    "best_ds = list(best_gfs.datasets.values())[1]\n",
    "print(best_ds.access_urls)\n",
    "\n",
    "# Create NCSS object to access the NetcdfSubset\n",
    "ncss = NCSS(best_ds.access_urls['NetcdfSubset'])\n",
    "print(best_ds.access_urls['NetcdfSubset'])"
   ]
  },
  {
   "cell_type": "markdown",
   "metadata": {
    "cell_marker": "#####################################"
   },
   "source": [
    "First Query for MSLP"
   ]
  },
  {
   "cell_type": "code",
   "execution_count": null,
   "metadata": {},
   "outputs": [],
   "source": [
    "# Create lat/lon box for location you want to get data for\n",
    "query = ncss.query()\n",
    "query.lonlat_box(north=50, south=30, east=-80, west=-115).time(datetime.utcnow())\n",
    "query.accept('netcdf4')\n",
    "\n",
    "# Request data for MSLP\n",
    "query.variables('MSLP_Eta_model_reduction_msl')\n",
    "data = ncss.get_data(query)\n",
    "\n",
    "# Pull out the variables you want to use\n",
    "mslp_var = data.variables['MSLP_Eta_model_reduction_msl']\n",
    "time_var = data.variables[find_time_var(mslp_var)]\n",
    "lat_var = data.variables['lat']\n",
    "lon_var = data.variables['lon']"
   ]
  },
  {
   "cell_type": "markdown",
   "metadata": {
    "cell_marker": "#####################################"
   },
   "source": [
    "Second Query for 850-hPa data"
   ]
  },
  {
   "cell_type": "code",
   "execution_count": null,
   "metadata": {},
   "outputs": [],
   "source": [
    "# Request data for 850-hPa winds\n",
    "# First clear the query's variables from previous query for MSLP\n",
    "query.var = set()\n",
    "query.variables('u-component_of_wind_isobaric', 'v-component_of_wind_isobaric')\n",
    "query.vertical_level(85000)\n",
    "data = ncss.get_data(query)\n",
    "u_wind_var850 = data.variables['u-component_of_wind_isobaric']\n",
    "v_wind_var850 = data.variables['v-component_of_wind_isobaric']"
   ]
  },
  {
   "cell_type": "markdown",
   "metadata": {
    "cell_marker": "#####################################"
   },
   "source": [
    "Third Query for 500-hPa data"
   ]
  },
  {
   "cell_type": "code",
   "execution_count": null,
   "metadata": {},
   "outputs": [],
   "source": [
    "# Request data for 500-hPa winds\n",
    "# First clear the query's variables from previous query for 850-hPa data\n",
    "query.var = set()\n",
    "query.variables('u-component_of_wind_isobaric', 'v-component_of_wind_isobaric')\n",
    "query.vertical_level(50000)\n",
    "data = ncss.get_data(query)\n",
    "u_wind_var500 = data.variables['u-component_of_wind_isobaric']\n",
    "v_wind_var500 = data.variables['v-component_of_wind_isobaric']"
   ]
  },
  {
   "cell_type": "markdown",
   "metadata": {
    "cell_marker": "#####################################"
   },
   "source": [
    "Data Manipulation"
   ]
  },
  {
   "cell_type": "code",
   "execution_count": null,
   "metadata": {},
   "outputs": [],
   "source": [
    "# Get actual data values and remove any size 1 dimensions\n",
    "lat = lat_var[:].squeeze()\n",
    "lon = lon_var[:].squeeze()\n",
    "mslp = units.Quantity(mslp_var[:].squeeze(), mslp_var.units).to('hPa')\n",
    "u_wind850 = u_wind_var850[:].squeeze()\n",
    "v_wind850 = v_wind_var850[:].squeeze()\n",
    "u_wind500 = u_wind_var500[:].squeeze()\n",
    "v_wind500 = v_wind_var500[:].squeeze()\n",
    "\n",
    "# Convert number of hours since the reference time into an actual date\n",
    "time = num2date(time_var[:].squeeze(), time_var.units,\n",
    "                only_use_cftime_datetimes=False,\n",
    "                only_use_python_datetimes=True)\n",
    "\n",
    "# Combine 1D latitude and longitudes into a 2D grid of locations\n",
    "lon_2d, lat_2d = np.meshgrid(lon, lat)\n",
    "\n",
    "# Smooth mslp data\n",
    "mslp = ndimage.gaussian_filter(mslp, sigma=3, order=0)"
   ]
  },
  {
   "cell_type": "markdown",
   "metadata": {
    "cell_marker": "#####################################"
   },
   "source": [
    "Begin making figure"
   ]
  },
  {
   "cell_type": "code",
   "execution_count": null,
   "metadata": {},
   "outputs": [],
   "source": [
    "# Create new figure\n",
    "fig = plt.figure(figsize=(15, 12), facecolor='black')\n",
    "\n",
    "# Add the map and set the extent\n",
    "ax = plt.axes(projection=ccrs.PlateCarree())\n",
    "ax.set_extent([-108., -91., 33., 45.])\n",
    "ax.background_patch.set_fill(False)\n",
    "\n",
    "# Add state boundaries to plot\n",
    "ax.add_feature(cfeature.STATES, edgecolor='white', linewidth=2)\n",
    "\n",
    "# Contour the MSLP\n",
    "c = ax.contour(lon_2d, lat_2d, mslp, colors='lime', linewidths=6)\n",
    "ax.clabel(c, fontsize=12, inline=1, inline_spacing=4, fmt='%i')\n",
    "\n",
    "wslice = slice(1, None, 4)\n",
    "# Plot 850-hPa wind vectors\n",
    "vectors850 = ax.quiver(lon_2d[wslice, wslice], lat_2d[wslice, wslice],\n",
    "                       u_wind850[wslice, wslice], v_wind850[wslice, wslice],\n",
    "                       headlength=4, headwidth=3, angles='xy', scale_units='xy',\n",
    "                       scale=12, color='gold', label='850mb wind')\n",
    "\n",
    "# Plot 500-hPa wind vectors\n",
    "vectors500 = ax.quiver(lon_2d[wslice, wslice], lat_2d[wslice, wslice],\n",
    "                       u_wind500[wslice, wslice], v_wind500[wslice, wslice],\n",
    "                       headlength=4, headwidth=3, angles='xy', scale_units='xy',\n",
    "                       scale=12, color='cornflowerblue', label='500mb wind')\n",
    "\n",
    "# Plot 500-850 shear\n",
    "shear = ax.quiver(lon_2d[wslice, wslice], lat_2d[wslice, wslice],\n",
    "                  u_wind500[wslice, wslice] - u_wind850[wslice, wslice],\n",
    "                  v_wind500[wslice, wslice] - v_wind850[wslice, wslice],\n",
    "                  headlength=4, headwidth=3, angles='xy', scale_units='xy',\n",
    "                  scale=12, color='deeppink', label='500-850mb shear')\n",
    "\n",
    "# Add a legend\n",
    "ax.legend(('850mb wind', '500mb wind', '500-850mb shear'), loc=4)\n",
    "\n",
    "# Manually set colors for legend\n",
    "legend = ax.get_legend()\n",
    "legend.legendHandles[0].set_color('gold')\n",
    "legend.legendHandles[1].set_color('cornflowerblue')\n",
    "legend.legendHandles[2].set_color('deeppink')\n",
    "\n",
    "# Add a title to the plot\n",
    "plt.title('MSLP, 850mb Wind, 500mb Wind, and 500-850mb Vertical Wind Shear \\n'\n",
    "          ' for {0:%d %B %Y %H:%MZ}'.format(time), color='white', size=14);"
   ]
  },
  {
   "cell_type": "code",
   "execution_count": null,
   "metadata": {},
   "outputs": [],
   "source": []
  }
 ],
 "metadata": {
  "jupytext": {
   "cell_metadata_filter": "-all",
   "main_language": "python",
   "notebook_metadata_filter": "-all"
  },
  "kernelspec": {
   "display_name": "Python 3",
   "language": "python",
   "name": "python3"
  },
  "language_info": {
   "codemirror_mode": {
    "name": "ipython",
    "version": 3
   },
   "file_extension": ".py",
   "mimetype": "text/x-python",
   "name": "python",
   "nbconvert_exporter": "python",
   "pygments_lexer": "ipython3",
   "version": "3.8.2"
  }
 },
 "nbformat": 4,
 "nbformat_minor": 4
}
